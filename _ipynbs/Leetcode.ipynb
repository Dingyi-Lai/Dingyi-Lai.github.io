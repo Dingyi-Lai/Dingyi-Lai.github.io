{
 "cells": [
  {
   "cell_type": "code",
   "execution_count": 74,
   "metadata": {},
   "outputs": [],
   "source": [
    "# 基本排序\n",
    "# 冒泡排序\n",
    "def bubbleSort(arr):\n",
    "    n = len(arr)\n",
    " \n",
    "    # 遍历所有数组元素\n",
    "    for i in range(n):\n",
    " \n",
    "        # Last i elements are already in place\n",
    "        for j in range(0, n-i-1):\n",
    " \n",
    "            if arr[j] > arr[j+1] :\n",
    "                arr[j], arr[j+1] = arr[j+1], arr[j]\n",
    " \n",
    "arr = [64, 34, 25, 12, 22, 11, 90]\n",
    " \n",
    "bubbleSort(arr)\n"
   ]
  },
  {
   "cell_type": "code",
   "execution_count": 76,
   "metadata": {},
   "outputs": [
    {
     "name": "stdout",
     "output_type": "stream",
     "text": [
      "排序后的数组：\n",
      "11\n",
      "12\n",
      "22\n",
      "25\n",
      "64\n"
     ]
    }
   ],
   "source": [
    "# 选择排序\n",
    "A = [64, 25, 12, 22, 11] \n",
    "  \n",
    "for i in range(len(A)): \n",
    "    min_idx = i \n",
    "    for j in range(i+1, len(A)): \n",
    "        if A[min_idx] > A[j]: \n",
    "            min_idx = j \n",
    "                \n",
    "    A[i], A[min_idx] = A[min_idx], A[i] \n",
    "  \n",
    "print (\"排序后的数组：\") \n",
    "for i in range(len(A)): \n",
    "    print(\"%d\" %A[i]),"
   ]
  },
  {
   "cell_type": "code",
   "execution_count": 96,
   "metadata": {},
   "outputs": [
    {
     "name": "stdout",
     "output_type": "stream",
     "text": [
      "1\n",
      "1\n"
     ]
    }
   ],
   "source": [
    "# 找到出现次数奇数次的数\n",
    "A = [1,2,2,3,3,4,4]\n",
    "\n",
    "temp = [[i,A.count(i)] for i in set(A)]\n",
    "for j in temp:\n",
    "    if j[1] % 2 != 0:\n",
    "        print(j[0])\n",
    "\n",
    "# 可以设置一个变量eor初始值为0，异或数组中所有数，最后一个数字就是出现奇数次的数\n",
    "A = [1,2,2,3,3,4,4]\n",
    "eor=0\n",
    "for i in A:\n",
    "    eor = eor^i\n",
    "print(eor)"
   ]
  },
  {
   "cell_type": "code",
   "execution_count": 98,
   "metadata": {},
   "outputs": [
    {
     "name": "stdout",
     "output_type": "stream",
     "text": [
      "1 2\n"
     ]
    }
   ],
   "source": [
    "# 要找到两个出现奇数次的数，可以先用eor异或所有数得到a^b，\n",
    "# 再提取最右边的1: int rightOne = eor & (~eor+1)\n",
    "# 再用eor2异或（原数组异或rightOne为0）的数得到a or b，用eor^eor2得到另一个\n",
    "A = [1,2,3,3,4,4]\n",
    "eor=0\n",
    "for i in A:\n",
    "    eor = eor^i\n",
    "eor2=0\n",
    "rightOne = eor & (~eor+1)\n",
    "for i in A:\n",
    "    if i ^ rightOne == 0:\n",
    "        eor2 = eor2^i\n",
    "print(eor2, eor^eor2)"
   ]
  },
  {
   "cell_type": "code",
   "execution_count": 93,
   "metadata": {},
   "outputs": [
    {
     "name": "stdout",
     "output_type": "stream",
     "text": [
      "2 1\n"
     ]
    }
   ],
   "source": [
    "a=1\n",
    "b=2\n",
    "a=a^b\n",
    "b=a^b\n",
    "a=a^b\n",
    "print(a,b)"
   ]
  },
  {
   "cell_type": "code",
   "execution_count": 91,
   "metadata": {},
   "outputs": [
    {
     "name": "stdout",
     "output_type": "stream",
     "text": [
      "1\n"
     ]
    }
   ],
   "source": [
    "# 找到出现次数k次的数\n",
    "A = [1,2,2,3,3,4,4]\n",
    "\n",
    "temp = [[i,A.count(i)] for i in set(A)]\n",
    "for j in temp:\n",
    "    if j[1] % 2 != 0:\n",
    "        print(j[0])"
   ]
  },
  {
   "cell_type": "code",
   "execution_count": null,
   "metadata": {},
   "outputs": [],
   "source": [
    "def insertionSort(arr): \n",
    "  \n",
    "    for i in range(1, len(arr)): \n",
    "  \n",
    "        key = arr[i] \n",
    "  \n",
    "        j = i-1\n",
    "        while j >=0 and key < arr[j] : \n",
    "            arr[j+1] = arr[j] \n",
    "            j -= 1\n",
    "        arr[j+1] = key \n",
    "  \n",
    "  \n",
    "arr = [12, 11, 13, 5, 6] \n",
    "insertionSort(arr) \n",
    "print (\"排序后的数组:\") \n",
    "for i in range(len(arr)): \n",
    "    print (\"%d\" %arr[i])"
   ]
  },
  {
   "cell_type": "code",
   "execution_count": 102,
   "metadata": {},
   "outputs": [
    {
     "data": {
      "text/plain": [
       "1"
      ]
     },
     "execution_count": 102,
     "metadata": {},
     "output_type": "execute_result"
    }
   ],
   "source": [
    "# 二分\n",
    "# 有序数组中查找数字\n",
    "def search(nums, target):\n",
    "    \"\"\"\n",
    "    :type nums: List[int]\n",
    "    :type target: int\n",
    "    :rtype: int\n",
    "    \"\"\"    \n",
    "    lower = 0\n",
    "    upper = len(nums)-1\n",
    "    \n",
    "    while lower <= upper:\n",
    "        mid = (lower) + (upper-lower)//2\n",
    "        # or\n",
    "        # mid = (lower) + ((upper-lower) >> 1)\n",
    "        if nums[mid] == target:\n",
    "            return mid\n",
    "        elif nums[mid] < target:\n",
    "            lower = mid + 1\n",
    "        else:\n",
    "            upper = mid - 1\n",
    "    return -1\n",
    "\n",
    "search([0,1,2,3],1)"
   ]
  },
  {
   "cell_type": "code",
   "execution_count": 117,
   "metadata": {},
   "outputs": [
    {
     "data": {
      "text/plain": [
       "4"
      ]
     },
     "execution_count": 117,
     "metadata": {},
     "output_type": "execute_result"
    }
   ],
   "source": [
    "# 有序数组查>=target最左的位置\n",
    "def search(nums, target):\n",
    "    \"\"\"\n",
    "    :type nums: List[int]\n",
    "    :type target: int\n",
    "    :rtype: int\n",
    "    \"\"\"    \n",
    "    lower = 0\n",
    "    upper = len(nums)-1\n",
    "    loc1 = 0\n",
    "    while lower <= upper:\n",
    "        mid = (lower) + (upper-lower)//2\n",
    "        if (nums[mid] >= target) and (nums[mid-1] < target):\n",
    "            loc1 = mid\n",
    "            return loc1\n",
    "        elif (nums[mid] >= target):\n",
    "            loc1 = mid\n",
    "            upper = loc1 - 1\n",
    "        elif nums[mid] < target:\n",
    "            lower = mid + 1\n",
    "        else:\n",
    "            return -1\n",
    "\n",
    "search([0,0,1,1,2,2,2,2,3,3],2)"
   ]
  },
  {
   "cell_type": "code",
   "execution_count": null,
   "metadata": {},
   "outputs": [],
   "source": [
    "# 局部最小值问题\n",
    "def getLessIndex(arr):\n",
    "    if not arr:\n",
    "        return -1\n",
    "    le = len(arr)\n",
    "    if le == 1 or arr[1] > arr[0]:\n",
    "        return 0\n",
    "    if arr[le-1] < arr[le-2]:\n",
    "        return le-1\n",
    "    start = 1\n",
    "    end = le-2\n",
    "    while start < end:\n",
    "        mid = (start + end)//2\n",
    "        if arr[mid] > arr[mid-1]:\n",
    "            end = mid - 1\n",
    "        elif arr[mid] > arr[mid+1]:\n",
    "            start = mid + 1\n",
    "        else:\n",
    "            return mid\n",
    "    return start"
   ]
  },
  {
   "cell_type": "code",
   "execution_count": 118,
   "metadata": {},
   "outputs": [
    {
     "name": "stdout",
     "output_type": "stream",
     "text": [
      "True\n"
     ]
    }
   ],
   "source": [
    "# 对数器原理\n",
    "import random\n",
    "\n",
    "class Logarithm():\n",
    "    \"\"\"对数器的实现与使用\"\"\"\n",
    "\n",
    "    def random_(self, size, number):\n",
    "        \"\"\"\n",
    "        生成随机样本, 不同的操作对象, 使用不同样本发生器\n",
    "        生成长度随机的数组: 数组的长度, 每个值都是随机的\n",
    "        \"\"\"\n",
    "        value = random.randint(0, size)\n",
    "        # 使用随机数-随机数, 生成 可能为正 可能为负 的数\n",
    "        return [random.randint(0, number) - random.randint(0, number) for num in range(value)]\n",
    "\n",
    "    def func_(self, arr):\n",
    "        \"\"\"\n",
    "        写一个 一定正确的方法 , 不考虑时间复杂度\n",
    "        如果这个方法，还是不能确定是否正确, 也可以:\n",
    "        测试的时候, 总会有两个结果不一样的时候, 这时候, 在math里面打印错误的数列, 然后校验 func_\n",
    "        \"\"\"\n",
    "        return sorted(arr)\n",
    "\n",
    "    def math_(self, arr):\n",
    "        \"\"\"这里是我们自己写的算法\"\"\"\n",
    "        for i in range(len(arr) - 1):\n",
    "            for j in range(len(arr) - 1 - i):\n",
    "                if arr[j] > arr[j + 1]:\n",
    "                    arr[j], arr[j + 1] = arr[j + 1], arr[j]\n",
    "        return arr\n",
    "\n",
    "    def run(self, size, value):\n",
    "        \"\"\"\n",
    "        拿两个一样的数组, 放到绝对正确的方法 和 我们写的算法, 比较两者的输出结果\n",
    "        如果结果一样, 则说明算法是正确的的, 返回对数器的结果\n",
    "        \"\"\"\n",
    "        succeed = \"True\"\n",
    "        for times in range(500000):\n",
    "            random_list = self.random_(size, value)\n",
    "            func_arr = self.func_(random_list)\n",
    "            math_arr = self.math_(random_list)\n",
    "            if func_arr != math_arr:\n",
    "                succeed = f\"False\\r\\nfunc_arr:{func_arr}\\r\\nmath_arr:{math_arr}\"\n",
    "                break\n",
    "        print(succeed)\n",
    "\n",
    "\n",
    "Logarithm().run(4, 31)"
   ]
  },
  {
   "cell_type": "code",
   "execution_count": 4,
   "metadata": {},
   "outputs": [
    {
     "data": {
      "text/plain": [
       "3"
      ]
     },
     "execution_count": 4,
     "metadata": {},
     "output_type": "execute_result"
    }
   ],
   "source": [
    "max(1,3)"
   ]
  },
  {
   "cell_type": "code",
   "execution_count": 5,
   "metadata": {},
   "outputs": [
    {
     "data": {
      "text/plain": [
       "7"
      ]
     },
     "execution_count": 5,
     "metadata": {},
     "output_type": "execute_result"
    }
   ],
   "source": [
    "# 递归二分求最大值\n",
    "def process(arr, L, R):\n",
    "    if (L==R):\n",
    "        return arr[L]\n",
    "    mid = L + ((R - L) >> 1)\n",
    "    leftMax = process(arr, L, mid)\n",
    "    rightMax = process(arr, mid+1, R)\n",
    "    return max(leftMax,rightMax)\n",
    "\n",
    "A = [6,3,7,1,4,6,2]\n",
    "process(A, 0, len(A)-1)"
   ]
  },
  {
   "cell_type": "code",
   "execution_count": 6,
   "metadata": {},
   "outputs": [
    {
     "name": "stdout",
     "output_type": "stream",
     "text": [
      "给定的数组\n",
      "12\n",
      "11\n",
      "13\n",
      "5\n",
      "6\n",
      "7\n",
      "\n",
      "\n",
      "排序后的数组\n",
      "5\n",
      "6\n",
      "7\n",
      "11\n",
      "12\n",
      "13\n"
     ]
    }
   ],
   "source": [
    "# 归并排序\n",
    "def merge(arr, l, m, r): \n",
    "    n1 = m - l + 1\n",
    "    n2 = r- m \n",
    "  \n",
    "    # 创建临时数组\n",
    "    L = [0] * (n1)\n",
    "    R = [0] * (n2)\n",
    "  \n",
    "    # 拷贝数据到临时数组 arrays L[] 和 R[] \n",
    "    for i in range(0 , n1): \n",
    "        L[i] = arr[l + i] \n",
    "  \n",
    "    for j in range(0 , n2): \n",
    "        R[j] = arr[m + 1 + j] \n",
    "  \n",
    "    # 归并临时数组到 arr[l..r] \n",
    "    i = 0     # 初始化第一个子数组的索引\n",
    "    j = 0     # 初始化第二个子数组的索引\n",
    "    k = l     # 初始归并子数组的索引\n",
    "  \n",
    "    while i < n1 and j < n2 : \n",
    "        if L[i] <= R[j]: \n",
    "            arr[k] = L[i] \n",
    "            i += 1\n",
    "        else: \n",
    "            arr[k] = R[j] \n",
    "            j += 1\n",
    "        k += 1\n",
    "  \n",
    "    # 拷贝 L[] 的保留元素\n",
    "    while i < n1: \n",
    "        arr[k] = L[i] \n",
    "        i += 1\n",
    "        k += 1\n",
    "  \n",
    "    # 拷贝 R[] 的保留元素\n",
    "    while j < n2: \n",
    "        arr[k] = R[j] \n",
    "        j += 1\n",
    "        k += 1\n",
    "  \n",
    "def mergeSort(arr,l,r): \n",
    "    if l < r: \n",
    "  \n",
    "        \n",
    "        m = int((l+(r-1))/2)\n",
    "  \n",
    "       \n",
    "        mergeSort(arr, l, m) \n",
    "        mergeSort(arr, m+1, r) \n",
    "        merge(arr, l, m, r) \n",
    "  \n",
    "  \n",
    "arr = [12, 11, 13, 5, 6, 7] \n",
    "n = len(arr) \n",
    "print (\"给定的数组\") \n",
    "for i in range(n): \n",
    "    print (\"%d\" %arr[i]), \n",
    "  \n",
    "mergeSort(arr,0,n-1) \n",
    "print (\"\\n\\n排序后的数组\") \n",
    "for i in range(n): \n",
    "    print (\"%d\" %arr[i]),"
   ]
  },
  {
   "cell_type": "code",
   "execution_count": 8,
   "metadata": {},
   "outputs": [
    {
     "name": "stdout",
     "output_type": "stream",
     "text": [
      "1\n",
      "4\n",
      "2\n",
      "9\n",
      "16\n"
     ]
    }
   ],
   "source": [
    "# 小和问题\n",
    "arr=[1,3,4,2,5]\n",
    " \n",
    "def smallSum(arr, start, end):\n",
    "    if start == end:\n",
    "        return 0\n",
    "    mid = (start + end) // 2\n",
    " \n",
    "    return smallSum(arr, start, mid)+smallSum(arr, mid + 1, end)+merge(arr, start, mid, end)\n",
    " \n",
    "def merge(arr, start, mid, end):\n",
    "    l = start\n",
    "    r = mid + 1\n",
    "    result = []\n",
    "    Sum=0\n",
    " \n",
    "    while l <= mid and r <= end:\n",
    "        if arr[l] < arr[r]:    #这里注意不能为<=\n",
    "            Sum=Sum+arr[l]*(end-r+1)\n",
    " \n",
    " \n",
    "        if arr[l] < arr[r]:    #这里注意不能为<=\n",
    "            result.append(arr[l])\n",
    "            l = l + 1\n",
    "        else:\n",
    "            result.append(arr[r])\n",
    "            r = r + 1\n",
    " \n",
    "    while l <= mid:\n",
    "        result.append(arr[l])\n",
    "        l = l + 1\n",
    "    while r <= end:\n",
    "        result.append(arr[r])\n",
    "        r = r + 1\n",
    " \n",
    "    for i in range(0, len(result), 1):\n",
    "        arr[start + i] = result[i]\n",
    "    print(Sum)\n",
    "    return Sum\n",
    " \n",
    "print(smallSum(arr, 0, len(arr) - 1))"
   ]
  },
  {
   "cell_type": "code",
   "execution_count": 33,
   "metadata": {},
   "outputs": [
    {
     "name": "stdout",
     "output_type": "stream",
     "text": [
      "排序后的数组:\n",
      "1\n",
      "5\n",
      "7\n",
      "8\n",
      "9\n",
      "10\n"
     ]
    }
   ],
   "source": [
    "# 逆序对问题\n",
    "# 在一个数组中，左边的数如果比右边的数大，则折两个数构成一个逆序对，请打印所有逆序对。\n",
    "\n",
    "# 荷兰国旗问题\n",
    "import random\n",
    "def partition(arr,low,high): \n",
    "    i = ( low-1 )         # 最小元素索引\n",
    "    pivot = arr[high]     \n",
    "  \n",
    "    for j in range(low , high): \n",
    "  \n",
    "        # 当前元素小于或等于 pivot \n",
    "        if   arr[j] <= pivot: \n",
    "          \n",
    "            i = i+1 \n",
    "            arr[i],arr[j] = arr[j],arr[i] \n",
    "  \n",
    "    arr[i+1],arr[high] = arr[high],arr[i+1] \n",
    "    return ( i+1 ) \n",
    "  \n",
    " \n",
    "# arr[] --> 排序数组\n",
    "# low  --> 起始索引\n",
    "# high  --> 结束索引\n",
    "  \n",
    "# 快速排序函数\n",
    "def quickSort(arr,low,high): \n",
    "    if low < high: \n",
    "        random_int = random.randint(low, high)\n",
    "        arr[random_int],arr[high] = arr[high],arr[random_int]\n",
    "        pi = partition(arr,low,high) \n",
    "  \n",
    "        quickSort(arr, low, pi-1) \n",
    "        quickSort(arr, pi+1, high) \n",
    "  \n",
    "arr = [10, 7, 8, 9, 1, 5] \n",
    "n = len(arr) \n",
    "quickSort(arr,0,n-1) \n",
    "print (\"排序后的数组:\") \n",
    "for i in range(n): \n",
    "    print (\"%d\" %arr[i]),"
   ]
  },
  {
   "cell_type": "code",
   "execution_count": 56,
   "metadata": {},
   "outputs": [
    {
     "name": "stdout",
     "output_type": "stream",
     "text": [
      "3\n",
      "[12, 11, 13, 5, 15, 14]\n",
      "2\n",
      "[12, 11, 14, 5, 15, 13]\n",
      "1\n",
      "[12, 15, 14, 5, 11, 13]\n",
      "0\n",
      "[15, 12, 14, 5, 11, 13]\n",
      "5\n",
      "[14, 12, 13, 5, 11, 15]\n",
      "4\n",
      "[13, 12, 11, 5, 14, 15]\n",
      "3\n",
      "[12, 5, 11, 13, 14, 15]\n",
      "2\n",
      "[11, 5, 12, 13, 14, 15]\n",
      "1\n",
      "[5, 11, 12, 13, 14, 15]\n",
      "排序后\n",
      "5\n",
      "11\n",
      "12\n",
      "13\n",
      "14\n",
      "15\n"
     ]
    }
   ],
   "source": [
    "# 堆排列\n",
    "def heapify(arr, n, i): \n",
    "    largest = i  \n",
    "    l = 2 * i + 1     # left = 2*i + 1 \n",
    "    r = 2 * i + 2     # right = 2*i + 2 \n",
    "  \n",
    "    if l < n and arr[i] < arr[l]: \n",
    "        largest = l \n",
    "  \n",
    "    if r < n and arr[largest] < arr[r]: \n",
    "        largest = r \n",
    "  \n",
    "    if largest != i: \n",
    "        arr[i],arr[largest] = arr[largest],arr[i]  # 交换\n",
    "  \n",
    "        heapify(arr, n, largest) \n",
    "  \n",
    "def heapSort(arr): \n",
    "    n = len(arr) \n",
    "  \n",
    "    # Build a maxheap. \n",
    "    for i in range(int(n/2), -1, -1): \n",
    "        print(i)\n",
    "        heapify(arr, n, i) \n",
    "        print(arr)\n",
    "  \n",
    "    # 一个个交换元素\n",
    "    for i in range(n-1, 0, -1): \n",
    "        print(i)\n",
    "        arr[i], arr[0] = arr[0], arr[i]   # 交换\n",
    "        heapify(arr, i, 0) \n",
    "        print(arr)\n",
    "  \n",
    "arr = [ 12, 11, 13, 5, 15, 14] \n",
    "heapSort(arr) \n",
    "n = len(arr) \n",
    "print (\"排序后\") \n",
    "for i in range(n): \n",
    "    print (\"%d\" %arr[i]),"
   ]
  },
  {
   "cell_type": "code",
   "execution_count": 64,
   "metadata": {},
   "outputs": [
    {
     "name": "stdout",
     "output_type": "stream",
     "text": [
      "[1, 2, 3, 4, 5, 6, 7, 8, 9, 10]\n"
     ]
    }
   ],
   "source": [
    "# 几乎有序排列\n",
    "import heapq\n",
    "\n",
    "def sortedArrDistrancelessK(arr,k):\n",
    "    h = []\n",
    "    for i in range(k):\n",
    "        heapq.heappush(h,arr[i]) #默认小根堆\n",
    "    for i in range(len(arr)):\n",
    "        if i+k<len(arr):\n",
    "            heapq.heappush(h, arr[i+k])\n",
    "        arr[i]=heapq.heappop(h)\n",
    "    return arr\n",
    " \n",
    "a = [2,1,4,3,6,5,8,7,10,9]\n",
    "print(sortedArrDistrancelessK(a,3))"
   ]
  },
  {
   "cell_type": "code",
   "execution_count": 71,
   "metadata": {},
   "outputs": [
    {
     "name": "stdout",
     "output_type": "stream",
     "text": [
      "(2, 4),(2, 5),(5, 1)\n",
      "(2, 4),(2, 5),(5, 1)\n",
      "(2, 4),(2, 5),(5, 1)\n"
     ]
    }
   ],
   "source": [
    "# 比较器\n",
    "class Pos:\n",
    "    \"\"\"\n",
    "    坐标类\n",
    "    \"\"\"\n",
    "    def __init__(self, x = 0, y = 0):\n",
    "        self.x = x\n",
    "        self.y = y\n",
    "         \n",
    "    def __str__(self):\n",
    "        return ('(%s, %s)' % (self.x, self.y))\n",
    "\n",
    "def print_list(l):\n",
    "\t\"\"\"\n",
    "\t打印坐标数组\n",
    "\t\"\"\"\n",
    "\tprint(','.join([str(t) for t in l]))\n",
    "\t\n",
    "\n",
    "# 待排序的3个坐标，正确的排序结果应该是：(2, 4),(2, 5),(5, 1)\n",
    "l = [Pos(5, 1), Pos(2,5), Pos(2, 4)]\n",
    "\n",
    "###### 自定义比较项\n",
    "l1 = sorted(l, key=lambda t : 1000 * t.x + t.y)\n",
    "print_list(l1)\n",
    "\n",
    "###### 自定义比较方法\n",
    "from functools import cmp_to_key\n",
    "def cmp(t1, t2):\n",
    "    \"\"\"\n",
    "    比较函数, 需要满足: t1>t2则返回正数, t1=t0则返回0, t1<t2则返回负数。\n",
    "    \"\"\"\n",
    "    if t1.x == t2.x:\n",
    "        return t1.y - t2.y\n",
    "    return t1.x - t2.x\n",
    "\n",
    "# 新建cmp函数    \n",
    "l2 = sorted(l, key=cmp_to_key(cmp))\n",
    "print_list(l2)\n",
    "\n",
    "# 使用lambda\n",
    "l3 = sorted(l, key=cmp_to_key(lambda a, b : a.x - b.x if a.x != b.x else a.y - b.y))\n",
    "print_list(l3)\n",
    "\n"
   ]
  },
  {
   "cell_type": "code",
   "execution_count": 75,
   "metadata": {},
   "outputs": [
    {
     "name": "stdout",
     "output_type": "stream",
     "text": [
      "True\n",
      "False\n",
      "(2, 4),(2, 5),(5, 1)\n"
     ]
    }
   ],
   "source": [
    "class Pos:\n",
    "    def __init__(self, x = 0, y = 0):\n",
    "        self.x = x\n",
    "        self.y = y\n",
    " \n",
    "    def __str__(self):\n",
    "        return ('(%s, %s)' % (self.x, self.y))\n",
    " \n",
    "    def __lt__(self, other):\n",
    "        return self.x < other.x if self.x != other.x else self.y < other.y\n",
    " \n",
    "    def __gt__(self, other):\n",
    "        return self.x > other.x if self.x != other.x else self.y > other.y\n",
    " \n",
    "    def __ge__(self, other):\n",
    "        return self.x >= other.x if self.x != other.x else self.y >= other.y\n",
    " \n",
    "    def __eq__(self, other):\n",
    "        return self.x == other.x and self.y == other.y\n",
    " \n",
    "    def __le__(self, other):\n",
    "        return self.x <= other.x if self.x != other.x else self.y <= other.y\n",
    "\n",
    "#测试自定义运算符\n",
    "print(Pos(5,1) > Pos(2,4)) # 输出 True\n",
    "print(Pos(5,2) < Pos(5,1)) # 输出 False\n",
    "\n",
    "# 排序\n",
    "l = [Pos(5, 1), Pos(2,5), Pos(2, 4)]\n",
    "l4 = sorted(l)\n",
    "print_list(l4)"
   ]
  },
  {
   "cell_type": "code",
   "execution_count": 86,
   "metadata": {},
   "outputs": [
    {
     "name": "stdout",
     "output_type": "stream",
     "text": [
      "[1, 2, 3, 4, 5, 6, 7, 8, 9, 10]\n",
      "[1, 2, 3, 4, 5, 6, 7, 8, 9, 10]\n"
     ]
    }
   ],
   "source": [
    "# 利用比较器把小根堆变大根堆\n",
    "h=[]\n",
    "a = [2,1,4,3,6,5,8,7,10,9]\n",
    "for i in range(len(a)):\n",
    "    heapq.heappush(h,a[i]) #默认小根堆\n",
    "    \n",
    "print([heapq.heappop(h) for i in range(len(h))])\n",
    "\n",
    "# 方法2\n",
    "heapq.heapify(a)\n",
    "print([heapq.heappop(a) for _ in range(len(a))])  # 堆排序结果"
   ]
  },
  {
   "cell_type": "code",
   "execution_count": 98,
   "metadata": {},
   "outputs": [
    {
     "name": "stdout",
     "output_type": "stream",
     "text": [
      "[4, 2, 2, 1, 0]\n"
     ]
    }
   ],
   "source": [
    "import heapq\n",
    "\n",
    "class Node(object):\n",
    "    def __init__(self, val: int):\n",
    "        self.val = val\n",
    "\n",
    "    def __repr__(self):\n",
    "        return str(self.val)\n",
    "\n",
    "    def __lt__(self, other):\n",
    "        return self.val >= other.val\n",
    "\n",
    "heap = [Node(2), Node(0), Node(1), Node(4), Node(2)]\n",
    "heapq.heapify(heap)\n",
    "print([heapq.heappop(heap) for _ in range(len(heap))])  # 堆排序结果"
   ]
  },
  {
   "cell_type": "code",
   "execution_count": 100,
   "metadata": {},
   "outputs": [
    {
     "name": "stdout",
     "output_type": "stream",
     "text": [
      "[2, 2, 3, 3, 5, 5, 5, 6, 7, 7, 7, 9]\n"
     ]
    }
   ],
   "source": [
    "# 计数排序(Counting Sort)是一种不比较数据大小的排序算法，是一种牺牲空间换取时间的排序算法。\n",
    "# 计数排序适合数据量大且数据范围小的数据排序，如对人的年龄进行排序，对考试成绩进行排序等。\n",
    "\n",
    "# coding=utf-8\n",
    "def counting_sort(array):\n",
    "    if len(array) < 2:\n",
    "        return array\n",
    "    max_num = max(array)\n",
    "    count = [0] * (max_num + 1)\n",
    "    for num in array:\n",
    "        count[num] += 1\n",
    "    new_array = list()\n",
    "    for i in range(len(count)):\n",
    "        for j in range(count[i]):\n",
    "            new_array.append(i)\n",
    "    return new_array\n",
    " \n",
    " \n",
    "if __name__ == '__main__':\n",
    "    array = [5, 7, 3, 7, 2, 3, 2, 5, 9, 5, 7, 6]\n",
    "    print(counting_sort(array))"
   ]
  },
  {
   "cell_type": "code",
   "execution_count": 108,
   "metadata": {},
   "outputs": [
    {
     "name": "stdout",
     "output_type": "stream",
     "text": [
      "原始数据： [17, 56, 71, 38, 61, 62, 48, 28, 57, 42]\n",
      "[[], [71, 61], [62, 42], [], [], [], [56], [17, 57], [38, 48, 28], []]\n",
      "[71, 61, 62, 42, 56, 17, 57, 38, 48, 28]\n",
      "[[], [17], [28], [38], [42, 48], [56, 57], [61, 62], [71], [], []]\n",
      "[17, 28, 38, 42, 48, 56, 57, 61, 62, 71]\n",
      "计数排序结果为： [17, 28, 38, 42, 48, 56, 57, 61, 62, 71]\n"
     ]
    }
   ],
   "source": [
    "# 基数排序\n",
    "from typing import List\n",
    "\n",
    "def radix_sort(arr:List[int]):\n",
    "    n = len(str(max(arr)))  # 记录最大值的位数\n",
    "    for k in range(n):#n轮排序\n",
    "        # 每一轮生成10个列表\n",
    "        bucket_list=[[] for i in range(10)]#因为每一位数字都是0~9，故建立10个桶\n",
    "        for i in arr:\n",
    "            # 按第k位放入到桶中\n",
    "            bucket_list[i//(10**k)%10].append(i)\n",
    "        print(bucket_list)\n",
    "        # 按当前桶的顺序重排列表\n",
    "        arr=[j for i in bucket_list for j in i]\n",
    "        print(arr)\n",
    "    return arr\n",
    "\n",
    "# 测试数据\n",
    "\n",
    "if __name__ == '__main__':\n",
    "    import random\n",
    "    random.seed(54)\n",
    "    arr = [random.randint(0,100) for _ in range(10)]\n",
    "    print(\"原始数据：\", arr)\n",
    "    arr_new = radix_sort(arr)\n",
    "    print(\"计数排序结果为：\", arr_new)"
   ]
  },
  {
   "cell_type": "code",
   "execution_count": 122,
   "metadata": {},
   "outputs": [],
   "source": [
    "# Linked List 链表\n",
    "# Definition for singly-linked list.\n",
    "class ListNode(object):\n",
    "    def __init__(self, val=0, next=None):\n",
    "        self.val = val\n",
    "        self.next = next\n",
    "\n",
    "# 调试\n",
    "\n",
    "#将传入的数组转化为链表\n",
    "def create_linked_list(arr):\n",
    "    head = ListNode(arr[0])\n",
    "    cur = head\n",
    "    for i in range(1, len(arr)):\n",
    "        cur.next = ListNode(arr[i])\n",
    "        cur = cur.next\n",
    "    return head\n",
    "\n",
    "#传入链表头节点，以数组形式返回\n",
    "def print_linked_list(head):\n",
    "    cur = head\n",
    "    res = []\n",
    "    while cur:\n",
    "        res.append(cur.val)\n",
    "        cur = cur.next\n",
    "    return res"
   ]
  },
  {
   "cell_type": "code",
   "execution_count": 123,
   "metadata": {},
   "outputs": [
    {
     "name": "stdout",
     "output_type": "stream",
     "text": [
      "[1, 2, 3, 4, 5]\n",
      "[5, 4, 3, 2, 1]\n"
     ]
    }
   ],
   "source": [
    "# 反转单链表\n",
    "class Solution(object):\n",
    "    def reverseList(self, head):\n",
    "        \"\"\"\n",
    "        :type head: ListNode\n",
    "        :rtype: ListNode\n",
    "        \"\"\"\n",
    "        if not head or not head.next:\n",
    "            return head\n",
    "        second = head.next\n",
    "        reverse = self.reverseList(second)\n",
    "        second.next = head\n",
    "        head.next = None\n",
    "        \n",
    "        return reverse\n",
    "\n",
    "if __name__ == \"__main__\":\n",
    "    # 例如\n",
    "    arr = [1,2,3,4,5]\n",
    "    head = create_linked_list(arr)\n",
    "    print(print_linked_list(head))\n",
    "    solution = Solution()\n",
    "    sorted_lists = solution.reverseList(head)\n",
    "    print(print_linked_list(sorted_lists))"
   ]
  },
  {
   "cell_type": "code",
   "execution_count": 126,
   "metadata": {},
   "outputs": [],
   "source": [
    "#  打印两个有序链表公共部分\n",
    "class Solution(object):\n",
    "    def overlappedList(self, head1, head2):\n",
    "        \"\"\"\n",
    "        :type head: ListNode\n",
    "        :rtype: ListNode\n",
    "        \"\"\"\n",
    "        overlap = []\n",
    "        while (head1!=None) and (head2!=None):\n",
    "            if head1.val < head2.val:\n",
    "                head1 = head1.next\n",
    "            elif head1.val > head2.val:\n",
    "                head2 = head2.next\n",
    "            else:\n",
    "                overlap.append(head1.val)\n",
    "                head1 = head1.next\n",
    "                head2 = head2.next\n",
    "        else:\n",
    "            return overlap\n"
   ]
  },
  {
   "cell_type": "code",
   "execution_count": 127,
   "metadata": {},
   "outputs": [
    {
     "name": "stdout",
     "output_type": "stream",
     "text": [
      "[1, 2, 3, 4, 5]\n",
      "[2, 4, 6]\n",
      "[2, 4]\n"
     ]
    }
   ],
   "source": [
    "if __name__ == \"__main__\":\n",
    "    # 例如\n",
    "    arr1 = [1,2,3,4,5]\n",
    "    arr2 = [2,4,6]\n",
    "    head1 = create_linked_list(arr1)\n",
    "    head2 = create_linked_list(arr2)\n",
    "    print(print_linked_list(head1))\n",
    "    print(print_linked_list(head2))\n",
    "    solution = Solution()\n",
    "    overlapped_lists = solution.overlappedList(head1, head2)\n",
    "    print(overlapped_lists)"
   ]
  },
  {
   "cell_type": "code",
   "execution_count": 181,
   "metadata": {},
   "outputs": [],
   "source": [
    "# 判断一个链表是否为回文结构\n",
    "class Solution:\n",
    "    def isPalindrome(self, head):\n",
    "        slow, fast, prev = head, head, None\n",
    "        while fast and fast.next:\n",
    "            slow, fast = slow.next, fast.next.next\n",
    "        prev, slow, prev.next = slow, slow.next, None\n",
    "        while slow: \n",
    "            slow.next, prev, slow = prev, slow, slow.next # reverse\n",
    "        fast, slow = head, prev\n",
    "        while slow:\n",
    "            if fast.val != slow.val: return False\n",
    "            fast, slow = fast.next, slow.next\n",
    "        return True"
   ]
  },
  {
   "cell_type": "code",
   "execution_count": 182,
   "metadata": {},
   "outputs": [
    {
     "name": "stdout",
     "output_type": "stream",
     "text": [
      "[1, 2]\n",
      "False\n"
     ]
    }
   ],
   "source": [
    "if __name__ == \"__main__\":\n",
    "    # 例如\n",
    "    arr = [1,2]\n",
    "    head = create_linked_list(arr)\n",
    "    print(print_linked_list(head))\n",
    "    solution = Solution()\n",
    "    result = solution.isPalindrome(head)\n",
    "    print(result)"
   ]
  },
  {
   "cell_type": "code",
   "execution_count": 179,
   "metadata": {},
   "outputs": [
    {
     "name": "stdout",
     "output_type": "stream",
     "text": [
      "[1, 2, 2, 4, 3, 5]\n"
     ]
    }
   ],
   "source": [
    "# Given the head of a linked list and a value x, partition\n",
    "#  it such that all nodes less than x come before nodes\n",
    "#  greater than or equal to x.\n",
    "\n",
    "# You should preserve the original relative order of\n",
    "#  the nodes in each of the two partitions.\n",
    "\n",
    "\n",
    "class Solution:    \n",
    "    def partition(self, head,k):\n",
    "    \n",
    "        if not head: return None           \n",
    "        sH, elH = ListNode(), ListNode()         # <-- 1\n",
    "        sT, elT = sH, elH\n",
    "        \n",
    "        while head :                                # <-- 2                 \n",
    "            if head.val < k :\n",
    "                sT.next = head\n",
    "                sT = sT.next\n",
    "            else:\n",
    "                elT.next = head\n",
    "                elT = elT.next\n",
    "            head=head.next\n",
    "\n",
    "        sT.next, elT.next = elH.next, None    # <-- 3\n",
    "\n",
    "        return sH.next                            # <-- 4\n",
    "\n",
    "if __name__ == \"__main__\":\n",
    "    # 例如\n",
    "    head = [1,4,3,2,5,2]\n",
    "    x = 3\n",
    "    head = create_linked_list(head)\n",
    "    solution = Solution()\n",
    "    result = solution.partition(head, x)\n",
    "    print(print_linked_list(result))"
   ]
  },
  {
   "cell_type": "code",
   "execution_count": 169,
   "metadata": {},
   "outputs": [
    {
     "data": {
      "text/plain": [
       "[3, 2, 1]"
      ]
     },
     "execution_count": 169,
     "metadata": {},
     "output_type": "execute_result"
    }
   ],
   "source": [
    "# Copy List with Random Pointer\n",
    "\n",
    "class Solution(object):\n",
    "    def copyRandomList(self, head):\n",
    "        \"\"\"\n",
    "        :type head: Node\n",
    "        :rtype: Node\n",
    "        \"\"\"\n",
    "        if head is None:\n",
    "            return None\n",
    "        \n",
    "        cur = head\n",
    "\n",
    "        # copy value systematically\n",
    "        while cur:\n",
    "            nex = cur.next\n",
    "            cur.next = Node(cur.val) # copy a node\n",
    "            cur.next.next = nex\n",
    "            cur = nex\n",
    "\n",
    "        cur = head # go back\n",
    "        # set copy node rand\n",
    "        while cur:\n",
    "            nex = cur.next.next\n",
    "            curCopy = cur.next\n",
    "            if cur.random is not None:\n",
    "                curCopy.random = cur.random.next\n",
    "            else:\n",
    "                curCopy.random = None\n",
    "            cur = nex\n",
    "        \n",
    "        # go back and split\n",
    "        res = head.next\n",
    "        cur = head\n",
    "        while cur:\n",
    "            nex = cur.next.next\n",
    "            curCopy = cur.next\n",
    "            cur.next = nex\n",
    "            if nex is not None:\n",
    "                curCopy.next = nex.next\n",
    "            else:\n",
    "                curCopy.next = None\n",
    "            cur = nex\n",
    "        return res"
   ]
  },
  {
   "cell_type": "code",
   "execution_count": null,
   "metadata": {},
   "outputs": [],
   "source": [
    "#  Linked List Cycle\n",
    "# Definition for singly-linked list.\n",
    "# class ListNode(object):\n",
    "#     def __init__(self, x):\n",
    "#         self.val = x\n",
    "#         self.next = None\n",
    "\n",
    "class Solution(object):\n",
    "    def detectCycle(self, head):\n",
    "        \"\"\"\n",
    "        :type head: ListNode\n",
    "        :rtype: ListNode\n",
    "        \"\"\"\n",
    "        slow = fast = head\n",
    "        while fast and fast.next:\n",
    "            slow = slow.next\n",
    "            fast = fast.next.next\n",
    "            if slow == fast: # 有环的话快慢指针一定相遇\n",
    "                break\n",
    "        else:\n",
    "            return None\n",
    "        while head != slow:\n",
    "            slow = slow.next\n",
    "            head = head.next # head和slow每次走一步会在入环处相遇\n",
    "        return head\n",
    "        # visited = set()\n",
    "        # pointer = head\n",
    "        # while pointer:\n",
    "        #     if pointer in visited:\n",
    "        #         return pointer\n",
    "        #     visited.add(pointer)\n",
    "        #     pointer = pointer.next"
   ]
  },
  {
   "cell_type": "code",
   "execution_count": null,
   "metadata": {},
   "outputs": [],
   "source": [
    "# Intersection of Two Linked Lists\n",
    "\n",
    "class Solution(object):\n",
    "    def NoLoop(self, headA, headB):\n",
    "        \"\"\"\n",
    "        :type head1, head1: ListNode\n",
    "        :rtype: ListNode\n",
    "        \"\"\"\n",
    "        # visited = set()\n",
    "        # pointer = headA\n",
    "        # while pointer:\n",
    "        #     visited.add(pointer)\n",
    "        #     pointer = pointer.next\n",
    "\n",
    "        # pointer = headB\n",
    "        # while pointer:\n",
    "        #     if pointer in visited:\n",
    "        #         return pointer\n",
    "        #     visited.add(pointer)\n",
    "        #     pointer = pointer.next\n",
    "\n",
    "        if (headA is None) or (headB is None):\n",
    "            return None\n",
    "        cur1 = headA\n",
    "        cur2 = headB\n",
    "        n = 0 # 计长度差\n",
    "        while cur1.next != None:\n",
    "            n += 1\n",
    "            cur1 = cur1.next\n",
    "        while cur2.next != None:\n",
    "            n -= 1\n",
    "            cur2 = cur2.next\n",
    "        if cur1 != cur2:\n",
    "            return None\n",
    "        cur1 = headA if n > 0 else headB # len(headA) > len(headB)\n",
    "        cur2 = headB if cur1 == headA else headA\n",
    "        n = abs(n)\n",
    "        while n != 0:\n",
    "            n -= 1\n",
    "            cur1 = cur1.next\n",
    "        while cur1 != cur2:\n",
    "            cur1 = cur1.next\n",
    "            cur2 = cur2.next\n",
    "        return cur1"
   ]
  },
  {
   "cell_type": "code",
   "execution_count": null,
   "metadata": {},
   "outputs": [],
   "source": [
    "# not only acyclic\n",
    "class Solution(object):\n",
    "    def BothLoop(self, headA, loop1, headB, loop2):\n",
    "        # 入环节点loop1、loop2提前求好\n",
    "        if (loop1 == loop2):\n",
    "            cur1 = headA\n",
    "            cur2 = headB\n",
    "            n = 0 # 计长度差\n",
    "            while cur1.next != loop1:\n",
    "                n += 1\n",
    "                cur1 = cur1.next\n",
    "            while cur2.next != loop2:\n",
    "                n -= 1\n",
    "                cur2 = cur2.next\n",
    "            cur1 = headA if n > 0 else headB # len(headA) > len(headB)\n",
    "            cur2 = headB if cur1 == headA else headA\n",
    "            n = abs(n)\n",
    "            while n != 0:\n",
    "                n -= 1\n",
    "                cur1 = cur1.next\n",
    "            while cur1 != cur2:\n",
    "                cur1 = cur1.next\n",
    "                cur2 = cur2.next\n",
    "            return cur1\n",
    "        else:\n",
    "            cur1 = loop1.next\n",
    "            while cur1 != loop1:\n",
    "                if (loop1 == loop2):\n",
    "                    return loop1\n",
    "                curl1 = curl1.next\n",
    "            return None"
   ]
  },
  {
   "cell_type": "code",
   "execution_count": null,
   "metadata": {},
   "outputs": [],
   "source": [
    "class Solution(object):\n",
    "    def getIntersectionNode(self, headA, headB):\n",
    "        if (headA is None) or (headB is None):\n",
    "            return None\n",
    "        loop1 = detectCycle(head1)\n",
    "        loop2 = detectCycle(head2)\n",
    "        if (loop1 == None) and (loop2 == None):\n",
    "            return NoLoop(head1, head2)\n",
    "        if (loop1 != None) and (loop2 != None):\n",
    "            return BothLoop(head1, loop1, head2, loop2)\n",
    "        return None"
   ]
  },
  {
   "cell_type": "code",
   "execution_count": null,
   "metadata": {},
   "outputs": [],
   "source": [
    "# Tree traversals\n",
    "# 二叉树先中后序递归便利\n",
    "# - preorder prints before the recursive calls\n",
    "# preorder(node):\n",
    "# \tif node == null; return\n",
    "# \tprint(node.value)\n",
    "# \tpreorder(node.left)\n",
    "# \tpreorder(node.right)\n",
    "# # - inorder prints between the recursive calls (in increasing order)\n",
    "# inorder(node):\n",
    "# \tif node == null; return\n",
    "# \tinorder(node.left)\n",
    "# \tprint(node.value)\n",
    "# \tinorder(node.right)\n",
    "# # - postorder prints after the recursive calls\n",
    "# postorder(node):\n",
    "# \tif node == null; return\n",
    "# \tpostorder(node.left)\n",
    "# \tpostorder(node.right)\n",
    "# \tprint(node.value)"
   ]
  },
  {
   "cell_type": "code",
   "execution_count": null,
   "metadata": {},
   "outputs": [],
   "source": [
    "# 具体实现先序（递归&非递归）\n",
    "# Definition for a binary tree node.\n",
    "# class TreeNode(object):\n",
    "#     def __init__(self, val=0, left=None, right=None):\n",
    "#         self.val = val\n",
    "#         self.left = left\n",
    "#         self.right = right\n",
    "class Solution(object):\n",
    "    def preorderTraversal(self, root):\n",
    "        \"\"\"\n",
    "        :type root: TreeNode\n",
    "        :rtype: List[int]\n",
    "        \"\"\"\n",
    "        # # recursion\n",
    "        # def recursion(node):\n",
    "        #     if node == None:\n",
    "        #         return\n",
    "        #     traversal.append(node.val)\n",
    "        #     recursion(node.left)\n",
    "        #     recursion(node.right)\n",
    "        #     return\n",
    "        # traversal = []\n",
    "        # recursion(root)\n",
    "        # return traversal\n",
    "\n",
    "        # iterative\n",
    "        if not root: return []\n",
    "        stack, traversal = [root], []\n",
    "\n",
    "        while stack:\n",
    "            node = stack.pop()\n",
    "            traversal.append(node.val)\n",
    "            if node.right: # from right to left!!!\n",
    "                stack.append(node.right)\n",
    "            if node.left:\n",
    "                stack.append(node.left)\n",
    "        return traversal"
   ]
  },
  {
   "cell_type": "code",
   "execution_count": null,
   "metadata": {},
   "outputs": [],
   "source": [
    "# Definition for a binary tree node.\n",
    "# class TreeNode(object):\n",
    "#     def __init__(self, val=0, left=None, right=None):\n",
    "#         self.val = val\n",
    "#         self.left = left\n",
    "#         self.right = right\n",
    "class Solution(object):\n",
    "    def postorderTraversal(self, root):\n",
    "        \"\"\"\n",
    "        :type root: TreeNode\n",
    "        :rtype: List[int]\n",
    "        \"\"\"\n",
    "        # # recursion\n",
    "        # def recursion(node):\n",
    "        #     if node == None:\n",
    "        #         return\n",
    "        #     \n",
    "        #     recursion(node.left)\n",
    "        #     recursion(node.right)\n",
    "        #     traversal.append(node.val)\n",
    "        #     return\n",
    "        # traversal = []\n",
    "        # recursion(root)\n",
    "        # return traversal\n",
    "\n",
    "        # iterative\n",
    "        if not root: return []\n",
    "        stack, traversal = [root], []\n",
    "\n",
    "        while stack:\n",
    "            node = stack.pop()\n",
    "            if node.left: # from right to left!!!\n",
    "                stack.append(node.left)\n",
    "            if node.right:\n",
    "                stack.append(node.right)\n",
    "            traversal.append(node.val)\n",
    "        return traversal"
   ]
  },
  {
   "cell_type": "code",
   "execution_count": 185,
   "metadata": {},
   "outputs": [],
   "source": [
    "# Definition for a binary tree node.\n",
    "# class TreeNode(object):\n",
    "#     def __init__(self, val=0, left=None, right=None):\n",
    "#         self.val = val\n",
    "#         self.left = left\n",
    "#         self.right = right\n",
    "class Solution(object):\n",
    "    def inorderTraversal(self, root):\n",
    "        \"\"\"\n",
    "        :type root: TreeNode\n",
    "        :rtype: List[int]\n",
    "        \"\"\"\n",
    "        # # recursion\n",
    "        # def recursion(node):\n",
    "        #     if node == None:\n",
    "        #         return\n",
    "        #     \n",
    "        #     recursion(node.left)\n",
    "        #     traversal.append(node.val)\n",
    "        #\n",
    "        #     recursion(node.right)\n",
    "        #     \n",
    "        #     return\n",
    "        # traversal = []\n",
    "        # recursion(root)\n",
    "        # return traversal\n",
    "\n",
    "        # iterative\n",
    "        if root:\n",
    "            stack, traversal = [], []\n",
    "\n",
    "            while (stack!=[]) or (root!=None):\n",
    "                if root:\n",
    "                    stack.append(root)\n",
    "                    root = root.left\n",
    "                else:\n",
    "                    root = stack.pop()\n",
    "                    traversal.append(root.val)\n",
    "                    root = root.right\n",
    "            return traversal"
   ]
  },
  {
   "cell_type": "code",
   "execution_count": 188,
   "metadata": {},
   "outputs": [
    {
     "name": "stdout",
     "output_type": "stream",
     "text": [
      "[3, None, 1, 2, 1, 2]\n"
     ]
    }
   ],
   "source": [
    "\n",
    "\n",
    "class Solution(object):\n",
    "    def inorderTraversal(self, root):\n",
    "        \"\"\"\n",
    "        :type root: TreeNode\n",
    "        :rtype: List[int]\n",
    "        \"\"\"\n",
    "        # # recursion\n",
    "        # def recursion(node):\n",
    "        #     if node == None:\n",
    "        #         return\n",
    "        #     \n",
    "        #     recursion(node.left)\n",
    "        #     traversal.append(node.val)\n",
    "        #\n",
    "        #     recursion(node.right)\n",
    "        #     \n",
    "        #     return\n",
    "        # traversal = []\n",
    "        # recursion(root)\n",
    "        # return traversal\n",
    "\n",
    "        # iterative\n",
    "        if root:\n",
    "            stack, traversal = [root], []\n",
    "            root.val == None\n",
    "            while (stack!=[]) or (root!=None):\n",
    "                if root:\n",
    "                    stack.append(root)\n",
    "                    root = root.left\n",
    "                else:\n",
    "                    root = stack.pop()\n",
    "                    traversal.append(root.val)\n",
    "                    root = root.right\n",
    "            return traversal\n",
    "\n",
    "if __name__ == '__main__':\n",
    "    p = Solution()\n",
    "    l = [1,None,2,3]\n",
    "    res = p.inorderTraversal(Tree().createTree(l))\n",
    "    print(res)"
   ]
  },
  {
   "cell_type": "code",
   "execution_count": null,
   "metadata": {},
   "outputs": [],
   "source": [
    "# Definition for a binary tree node.\n",
    "# class TreeNode(object):\n",
    "#     def __init__(self, val=0, left=None, right=None):\n",
    "#         self.val = val\n",
    "#         self.left = left\n",
    "#         self.right = right\n",
    "class Solution(object):\n",
    "    def levelOrder(self, root):\n",
    "        \"\"\"\n",
    "        :type root: TreeNode\n",
    "        :rtype: List[List[int]]\n",
    "        \"\"\"\n",
    "        if not root: return []\n",
    "        queue, res = deque([root]), []\n",
    "\n",
    "        while queue:\n",
    "            cur_level, size = [], len(queue)\n",
    "            # print(cur_level, size)\n",
    "            for i in range(size):\n",
    "                # print(\"queue = \", queue)\n",
    "                node = queue.popleft()\n",
    "                # print(node.val,node.left,node.right)\n",
    "                if node.left:\n",
    "                    queue.append(node.left)\n",
    "                if node.right:\n",
    "                    queue.append(node.right)\n",
    "                cur_level.append(node.val)\n",
    "            res.append(cur_level)\n",
    "        return res\n",
    "    \n",
    "# if not [[3],[9,20],[15,7]], but [3,9,20,15,7]\n",
    "# class Solution(object):\n",
    "#     def levelOrder(self, root):\n",
    "#         \"\"\"\n",
    "#         :type root: TreeNode\n",
    "#         :rtype: List[List[int]]\n",
    "#         \"\"\"\n",
    "#         if not root: return []\n",
    "#         queue, res = deque([root]), []\n",
    "\n",
    "#         while queue:\n",
    "#             node = queue.popleft()\n",
    "#             if node.left:\n",
    "#                 queue.append(node.left)\n",
    "#             if node.right:\n",
    "#                 queue.append(node.right)\n",
    "#             res.append(node.val)\n",
    "#             print(res)\n",
    "#         return res"
   ]
  },
  {
   "cell_type": "code",
   "execution_count": null,
   "metadata": {},
   "outputs": [],
   "source": [
    "# Validate Binary Search Tree\n",
    "class Solution(object):\n",
    "    def isValidBST(self, root):\n",
    "        \"\"\"\n",
    "        :type root: TreeNode\n",
    "        :rtype: bool\n",
    "        \"\"\"\n",
    "        \n",
    "        def valid(node,left,right):\n",
    "            if not node:\n",
    "                return True\n",
    "            if not (node.val < right and node.val>left):\n",
    "                return False\n",
    "            return ( valid(node.left,left,node.val) and \n",
    "                    valid(node.right,node.val,right))\n",
    "        return valid(root,float(\"-inf\"),float(\"inf\"))"
   ]
  },
  {
   "cell_type": "code",
   "execution_count": null,
   "metadata": {},
   "outputs": [],
   "source": [
    "# Check Completeness of a Binary Tree\n",
    "class Solution(object):\n",
    "    def isCompleteTree(self, root):\n",
    "        \"\"\"\n",
    "        :type root: TreeNode\n",
    "        :rtype: bool\n",
    "        \"\"\"\n",
    "        leaf = False\n",
    "        if not root: return True\n",
    "        queue = deque([root])\n",
    "        while queue:\n",
    "            node = queue.popleft()\n",
    "            if (leaf and (node.left or node.right)) or \\\n",
    "            ((not node.left) and node.right):\n",
    "                # 如果遇到了不双全的节点之后，又发现当前节点不是叶节点\n",
    "                return False\n",
    "            if node.left:\n",
    "                queue.append(node.left)\n",
    "            if node.right:\n",
    "                queue.append(node.right)\n",
    "            if (not node.left) or (not node.right):\n",
    "                leaf = True\n",
    "        \n",
    "        return True"
   ]
  },
  {
   "cell_type": "code",
   "execution_count": null,
   "metadata": {},
   "outputs": [],
   "source": [
    "# check full binary tree\n",
    "class Solution(object):\n",
    "    def isFullTree(self, root):\n",
    "        \"\"\"\n",
    "        :type root: TreeNode\n",
    "        :rtype: bool\n",
    "        \"\"\"\n",
    "        def f(node):\n",
    "            if not node: return [0, 0]\n",
    "            leftData = f(node.left)\n",
    "            rightData = f(node.right)\n",
    "            height = max(leftData[0] + rightData[0]) + 1\n",
    "            nodes = max(leftData[1] + rightData[1]) + 1\n",
    "            return [height,nodes]\n",
    "        \n",
    "        if not root: return True\n",
    "        data = f(root)\n",
    "        return data[1] == (1 << data[0] - 1)"
   ]
  },
  {
   "cell_type": "code",
   "execution_count": null,
   "metadata": {},
   "outputs": [],
   "source": [
    "class Solution(object):\n",
    "    def isBalanced(self, root):\n",
    "        \"\"\"\n",
    "        :type root: TreeNode\n",
    "        :rtype: bool\n",
    "        \"\"\"\n",
    "        def f(node):\n",
    "            if not node: return 0\n",
    "            leftData = f(node.left)\n",
    "            rightData = f(node.right)\n",
    "            # print(leftData, rightData)\n",
    "            height = max(leftData, rightData) + 1\n",
    "            if (leftData < 0) or (rightData < 0) or (abs(leftData - rightData) > 1):\n",
    "                return -1\n",
    "            return height\n",
    "        \n",
    "        height = f(root)\n",
    "        return height >= 0"
   ]
  },
  {
   "cell_type": "code",
   "execution_count": null,
   "metadata": {},
   "outputs": [],
   "source": [
    "class Solution(object):\n",
    "    def lowestCommonAncestor(self, root, p, q):\n",
    "        \"\"\"\n",
    "        :type root: TreeNode\n",
    "        :type p: TreeNode\n",
    "        :type q: TreeNode\n",
    "        :rtype: TreeNode\n",
    "        \"\"\"\n",
    "        if (not root) or (root == p) or (root == q):\n",
    "            return root\n",
    "        left = self.lowestCommonAncestor(root.left, p, q)\n",
    "        right = self.lowestCommonAncestor(root.right, p, q)\n",
    "        if ((left is not None) and (right is not None)):\n",
    "            return root\n",
    "        return left if left else right"
   ]
  },
  {
   "cell_type": "code",
   "execution_count": null,
   "metadata": {},
   "outputs": [],
   "source": [
    "class Solution(object):\n",
    "    def getSuccessorNode(self, node):\n",
    "        if not node:\n",
    "            return node\n",
    "        \n",
    "        def getLeftMost(node):\n",
    "            if not node:\n",
    "                return node\n",
    "            while node.left:\n",
    "                node = node.left\n",
    "\n",
    "        if node.right:\n",
    "            return getLeftMost(node.right)\n",
    "        else:\n",
    "            parent = node.parent\n",
    "            while ((parent is not None) and (parent.left is not None)):\n",
    "                # 当前节点是其父亲节点右孩子\n",
    "                node = parent\n",
    "                parent = node.parent\n",
    "            return parent"
   ]
  },
  {
   "cell_type": "code",
   "execution_count": null,
   "metadata": {},
   "outputs": [],
   "source": [
    "# serialize and deserialize\n",
    "class Codec:\n",
    "\n",
    "    def serialize(self, root):\n",
    "        \"\"\"Encodes a tree to a single string.\n",
    "        \n",
    "        :type root: TreeNode\n",
    "        :rtype: str\n",
    "        \"\"\"\n",
    "        if not root: return \"#_\"\n",
    "        res = str(root.val) + \"_\"\n",
    "        res += self.serialize(root.left)\n",
    "        res += self.serialize(root.right)\n",
    "        print(res)\n",
    "        return res\n",
    "\n",
    "    def deserialize(self, data):\n",
    "        \"\"\"Decodes your encoded data to tree.\n",
    "        \n",
    "        :type data: str\n",
    "        :rtype: TreeNode\n",
    "        \"\"\"\n",
    "        values = data.split(\"_\")\n",
    "        queue = deque(values[::-1])\n",
    "        # print(queue)\n",
    "        def reconstruct(queue):\n",
    "            value = queue.pop()\n",
    "            # print(value)\n",
    "            if value == \"#\": return None\n",
    "            head = TreeNode(value)\n",
    "            # print(head)\n",
    "            head.left = reconstruct(queue)\n",
    "            head.right = reconstruct(queue)\n",
    "            return head\n",
    "        return reconstruct(queue)\n",
    "        \n",
    "\n",
    "# Your Codec object will be instantiated and called as such:\n",
    "# ser = Codec()\n",
    "# deser = Codec()\n",
    "# ans = deser.deserialize(ser.serialize(root))"
   ]
  },
  {
   "cell_type": "code",
   "execution_count": 7,
   "metadata": {},
   "outputs": [],
   "source": [
    "# Paper folding -> inorder traversal\n",
    "\n",
    "def PrintAllFolds(N):\n",
    "    def printProcess(i, N, down): # i是节点的层数，N是一共的层数，down==ture 凹, down==false 凸\n",
    "        if i>N: return\n",
    "        printProcess(i+1, N, True)\n",
    "        print(\"凹\") if down else print(\"凸\")\n",
    "        printProcess(i+1, N, False)\n",
    "    printProcess(1,N,True)"
   ]
  },
  {
   "cell_type": "code",
   "execution_count": 8,
   "metadata": {},
   "outputs": [
    {
     "name": "stdout",
     "output_type": "stream",
     "text": [
      "凹\n",
      "凹\n",
      "凸\n",
      "凹\n",
      "凹\n",
      "凸\n",
      "凸\n"
     ]
    }
   ],
   "source": [
    "PrintAllFolds(3)"
   ]
  },
  {
   "cell_type": "code",
   "execution_count": 135,
   "metadata": {},
   "outputs": [],
   "source": [
    "# graph大模板\n",
    "class Node(object):\n",
    "    def __init__(self, value):\n",
    "        self.value = value\n",
    "        self.inNode = 0\n",
    "        self.outNode = 0\n",
    "        self.nexts = [] # nodes\n",
    "        self.edges = [] # edges\n",
    "\n",
    "class Edge(object):\n",
    "    def __init__(self, weight, Edgefrom, Edgeto):\n",
    "        self.weight = weight\n",
    "        self.Edgefrom = Edgefrom\n",
    "        self.Edgeto = Edgeto\n",
    "\n",
    "class Graph(object):\n",
    "    def __init__(self):\n",
    "        self.nodes = {} #{int, Node} #可以替换成数组\n",
    "        self.edges = [] #set(Edge)\n",
    "    \n",
    "\n",
    "def createGraph(matrix):\n",
    "    if (matrix is None) or (len(matrix) == 0): return None\n",
    "    graph = Graph()\n",
    "    for i in range(len(matrix)):\n",
    "        Edgefrom = matrix[i][0]\n",
    "        Edgeto = matrix[i][1]\n",
    "        weight = matrix[i][2]\n",
    "        if Edgefrom not in graph.nodes.keys():\n",
    "            # print(Edgefrom, graph.nodes.keys())\n",
    "            graph.nodes.update({Edgefrom: Node(Edgefrom)})\n",
    "        if Edgeto not in graph.nodes.keys():\n",
    "            # print(Edgeto, graph.nodes.keys())\n",
    "            graph.nodes.update({Edgeto: Node(Edgeto)})\n",
    "        fromNode = graph.nodes[Edgefrom]\n",
    "        toNode = graph.nodes[Edgeto]\n",
    "        newEdge = Edge(weight, fromNode, toNode)\n",
    "        fromNode.nexts.append(toNode)\n",
    "        fromNode.outNode += 1\n",
    "        toNode.inNode += 1\n",
    "        fromNode.edges.append(newEdge)\n",
    "        graph.edges.append(newEdge)\n",
    "    return graph\n",
    "        \n"
   ]
  },
  {
   "cell_type": "code",
   "execution_count": 136,
   "metadata": {},
   "outputs": [],
   "source": [
    "graph_bfs = createGraph(matrix=[[\"A\",\"B\",1],[\"A\",\"C\",2],[\"A\",\"E\",1],\\\n",
    "                    [\"B\",\"A\",1],[\"B\",\"C\",2],[\"B\",\"D\",2],[\"B\",\"E\",2],\\\n",
    "                    [\"C\",\"D\",1],[\"C\",\"B\",2],[\"C\",\"A\",2],\n",
    "                    [\"D\",\"C\",1],[\"D\",\"E\",1],[\"D\",\"B\",2],\n",
    "                    [\"E\",\"B\",2],[\"E\",\"A\",1],[\"E\",\"D\",1]])"
   ]
  },
  {
   "cell_type": "code",
   "execution_count": 151,
   "metadata": {},
   "outputs": [],
   "source": [
    "from collections import deque\n",
    "# 宽度优先遍历\n",
    "def bfs(node):\n",
    "    if not node: return\n",
    "    queue = deque([node])\n",
    "    set0 = [node]\n",
    "    while queue:\n",
    "        # print([j.value for j in queue])\n",
    "        cur = queue.pop()\n",
    "        print(cur.value)\n",
    "        # print(cur.nexts)\n",
    "        for i in cur.nexts:\n",
    "            # print(i.value)\n",
    "            # print([j.value for j in set0])\n",
    "            if i not in set0:\n",
    "                set0.append(i)\n",
    "                queue.appendleft(i)\n",
    "\n",
    "    "
   ]
  },
  {
   "cell_type": "code",
   "execution_count": 152,
   "metadata": {},
   "outputs": [
    {
     "name": "stdout",
     "output_type": "stream",
     "text": [
      "A\n",
      "B\n",
      "C\n",
      "E\n",
      "D\n"
     ]
    }
   ],
   "source": [
    "# acyclic graph\n",
    "# ACBED / ABCED / AECBD\n",
    "bfs(graph_bfs.nodes[\"A\"])"
   ]
  },
  {
   "cell_type": "code",
   "execution_count": 153,
   "metadata": {},
   "outputs": [],
   "source": [
    "# 深度优先遍历\n",
    "def dfs(node):\n",
    "    if not node: return\n",
    "    stack = [node]\n",
    "    set0 = [node]\n",
    "    print(node.value)\n",
    "    while stack:\n",
    "        cur = stack.pop()\n",
    "        for i in cur.nexts:\n",
    "            if i not in set0:\n",
    "                stack.append(cur)\n",
    "                stack.append(i)\n",
    "                set0.append(i)\n",
    "                print(i.value)\n",
    "                break\n",
    "\n",
    "    "
   ]
  },
  {
   "cell_type": "code",
   "execution_count": 154,
   "metadata": {},
   "outputs": [],
   "source": [
    "graph_dfs = createGraph(matrix=[[\"A\",\"B\",1],[\"A\",\"C\",1],[\"A\",\"E\",1],\\\n",
    "                    [\"B\",\"A\",1],[\"B\",\"C\",1],\\\n",
    "                    [\"C\",\"A\",1],[\"C\",\"B\",1],[\"C\",\"D\",1], \n",
    "                    [\"D\",\"C\",1],[\"D\",\"E\",1],\n",
    "                    [\"E\",\"A\",1], [\"E\",\"D\",1]])"
   ]
  },
  {
   "cell_type": "code",
   "execution_count": 155,
   "metadata": {},
   "outputs": [
    {
     "name": "stdout",
     "output_type": "stream",
     "text": [
      "A\n",
      "B\n",
      "C\n",
      "D\n",
      "E\n"
     ]
    }
   ],
   "source": [
    "dfs(graph_dfs.nodes[\"A\"])"
   ]
  },
  {
   "cell_type": "code",
   "execution_count": 172,
   "metadata": {},
   "outputs": [],
   "source": [
    "# 拓扑排序\n",
    "def sortedTopology(graph):\n",
    "    inMap = {} #node, integer\n",
    "    zeroInQueue = deque([])\n",
    "    # 入度为0的点，才能进到这个队列\n",
    "    for node in graph.nodes.values():\n",
    "        inMap.update({node: node.inNode})\n",
    "        if node.inNode == 0:\n",
    "            zeroInQueue.append(node)\n",
    "    # 拓扑排序的结果，依次加入result\n",
    "    result = []\n",
    "    while zeroInQueue:\n",
    "        cur = zeroInQueue.popleft()\n",
    "        result.append(cur.value)\n",
    "        for nex in cur.nexts:\n",
    "            inMap.update({nex: inMap[nex]-1})\n",
    "            if inMap[nex] == 0:\n",
    "                zeroInQueue.append(nex)\n",
    "    return result\n"
   ]
  },
  {
   "cell_type": "code",
   "execution_count": 164,
   "metadata": {},
   "outputs": [],
   "source": [
    "graph_topology = createGraph(matrix=[[\"A\",\"B\",1],[\"A\",\"C\",1],\\\n",
    "                    [\"B\",\"D\",1],[\"B\",\"C\",1],\\\n",
    "                    [\"C\",\"D\",1]])"
   ]
  },
  {
   "cell_type": "code",
   "execution_count": 173,
   "metadata": {},
   "outputs": [
    {
     "data": {
      "text/plain": [
       "['A', 'B', 'C', 'D']"
      ]
     },
     "execution_count": 173,
     "metadata": {},
     "output_type": "execute_result"
    }
   ],
   "source": [
    "# ABCD\n",
    "sortedTopology(graph_topology)"
   ]
  },
  {
   "cell_type": "code",
   "execution_count": null,
   "metadata": {},
   "outputs": [],
   "source": [
    "# 并查集\n"
   ]
  },
  {
   "cell_type": "code",
   "execution_count": null,
   "metadata": {},
   "outputs": [],
   "source": [
    "# Kruskal算法\n",
    "def kruskalMST(graph):\n",
    "    unionFind = UnionFind()\n",
    "    unionFind.makeSets(graph.nodes.values())\n",
    "    # 比较器比较边的权重\n",
    "    priorityQueue = sorted(graph.edges, key=lambda t : t.weight)\n",
    "    result = []\n",
    "    while priorityQueue:\n",
    "        edge = priorityQueue.pop()\n",
    "        if not unionFind.isSameSet(edge.Edgefrom, edge.Edgeto):\n",
    "            result.append(edge)\n",
    "            unioFind.union(edge.Edgefrom, edge.Edgeto)\n",
    "    return result"
   ]
  },
  {
   "cell_type": "code",
   "execution_count": null,
   "metadata": {},
   "outputs": [],
   "source": [
    "# 岛问题 O(N*M)\n",
    "class Solution(object):\n",
    "    def numIslands(self, grid):\n",
    "        \"\"\"\n",
    "        :type grid: List[List[str]]\n",
    "        :rtype: int\n",
    "        \"\"\"\n",
    "        def infect(grid, i, j, N, M):\n",
    "            if (i<0) or (i>=N) or (j<0) or (j>=M) or (grid[i][j] != \"1\"):\n",
    "                return\n",
    "            grid[i][j] = \"2\"\n",
    "            infect(grid, i+1, j, N, M)\n",
    "            infect(grid, i, j+1, N, M)\n",
    "            infect(grid, i-1, j, N, M)\n",
    "            infect(grid, i, j-1, N, M)\n",
    "\n",
    "        if (grid == None) or (grid[0] == None):\n",
    "            return 0\n",
    "        N = len(grid)\n",
    "        M = len(grid[0])\n",
    "        res = 0\n",
    "        for i in range(N):\n",
    "            for j in range(M):\n",
    "                \n",
    "                if grid[i][j] == \"1\":\n",
    "                    res += 1\n",
    "                    infect(grid, i, j, N, M)\n",
    "        return res"
   ]
  },
  {
   "cell_type": "markdown",
   "metadata": {},
   "source": [
    "# 牛客网\n",
    "使用python3的 io模块的StringIO将字符串替换成sys.stdin\n",
    "## HJ1 字符串最后一个单词的长度"
   ]
  },
  {
   "cell_type": "code",
   "execution_count": 2,
   "metadata": {},
   "outputs": [
    {
     "name": "stdout",
     "output_type": "stream",
     "text": [
      "8\n"
     ]
    }
   ],
   "source": [
    "# 注释段落德语键盘：win+/（-）\n",
    "import sys\n",
    "from io import StringIO\n",
    "\n",
    "# doc = '''\n",
    "# hello nowcoder\n",
    "# '''\n",
    "# sys.stdin = StringIO(doc)\n",
    "# for line in sys.stdin:\n",
    "#     a = line.split()\n",
    "#     print(len(a[-1]))\n",
    "\n",
    "# 运行时间：49ms 占用内存：4536KB \n",
    "# 使用语言：Python 3 用例通过率：100.00%\n",
    "\n",
    "print(len(input().split()[-1]))\n",
    "# 运行时间：42ms 占用内存：4536KB 使用语言：Python 3 用例通过率：100.00%"
   ]
  },
  {
   "cell_type": "markdown",
   "metadata": {},
   "source": [
    "## HJ2 计算某字符出现次数"
   ]
  },
  {
   "cell_type": "code",
   "execution_count": 6,
   "metadata": {},
   "outputs": [
    {
     "data": {
      "text/plain": [
       "0"
      ]
     },
     "execution_count": 6,
     "metadata": {},
     "output_type": "execute_result"
    }
   ],
   "source": [
    "str1 = input().lower()\n",
    "str2 = input().lower()\n",
    "print(str1.count(str2))"
   ]
  },
  {
   "cell_type": "markdown",
   "metadata": {},
   "source": [
    "## HJ3 明明的随机数\n",
    "明明生成了N个1到500之间的随机整数。请你删去其中重复的数字，即相同的数字只保留一个，把其余相同的数去掉，然后再把这些数从小到大排序，按照排好的顺序输出。"
   ]
  },
  {
   "cell_type": "code",
   "execution_count": null,
   "metadata": {},
   "outputs": [
    {
     "name": "stdout",
     "output_type": "stream",
     "text": [
      "1\n",
      "2\n"
     ]
    }
   ],
   "source": [
    "data = []\n",
    "while True:\n",
    "    try:\n",
    "        n = input()\n",
    "        ta = []\n",
    "        for i in range(int(n)):\n",
    "            ta.append(int(input()))\n",
    "        uniq = set(ta)\n",
    "        for j in sorted(uniq):\n",
    "            print(j)\n",
    "    except(EOFError, KeyboardInterrupt, ValueError):\n",
    "        break"
   ]
  },
  {
   "cell_type": "markdown",
   "metadata": {},
   "source": [
    "## HJ4 字符串分隔\n",
    "•输入一个字符串，请按长度为8拆分每个输入字符串并进行输出；\n",
    "•长度不是8整数倍的字符串请在后面补数字0，空字符串不处理。"
   ]
  },
  {
   "cell_type": "code",
   "execution_count": 9,
   "metadata": {},
   "outputs": [
    {
     "name": "stdout",
     "output_type": "stream",
     "text": [
      "23232323\n",
      "23000000\n"
     ]
    }
   ],
   "source": [
    "str=input()\n",
    "\n",
    "for i in range(0,len(str),8):\n",
    "    ss=(str[i:i+8])\n",
    "    #print(ss)\n",
    "    print(ss+(8-len(ss))*'0')\n",
    "\n",
    "#  运行时间：42ms 占用内存：4608KB\n",
    "#  使用语言：Python 3 用例通过率：100.00%"
   ]
  },
  {
   "cell_type": "markdown",
   "metadata": {},
   "source": [
    "## HJ5 进制转换\n",
    "写出一个程序，接受一个十六进制的数，输出该数值的十进制表示。"
   ]
  },
  {
   "cell_type": "code",
   "execution_count": 54,
   "metadata": {},
   "outputs": [
    {
     "name": "stdout",
     "output_type": "stream",
     "text": [
      "170\n"
     ]
    }
   ],
   "source": [
    "a=input()\n",
    "print(int(a,16))\n",
    "# or print(int(input(),16))"
   ]
  },
  {
   "cell_type": "markdown",
   "metadata": {},
   "source": [
    "## HJ6 质数因子\n",
    "功能:输入一个正整数，按照从小到大的顺序输出它的所有质因子（重复的也要列举）（如180的质因子为2 2 3 3 5 ）"
   ]
  },
  {
   "cell_type": "code",
   "execution_count": 73,
   "metadata": {},
   "outputs": [
    {
     "name": "stdout",
     "output_type": "stream",
     "text": [
      "2 2 3 3 5 "
     ]
    }
   ],
   "source": [
    "x = int(input())\n",
    "# 事实上只需要遍历从2到√x即可\n",
    "for i in range(2, int(x ** 0.5) + 1):\n",
    "    while x % i == 0:\n",
    "        print(i, end=' ')\n",
    "        x = x // i\n",
    "if x > 2:\n",
    "    print(x)\n",
    "\n",
    "# 运行时间：42ms 占用内存：4532KB 使用语言：Python 3 用例通过率：100.00%\n"
   ]
  },
  {
   "cell_type": "markdown",
   "metadata": {},
   "source": [
    "## HJ7 取近似值\n",
    "写出一个程序，接受一个正浮点数值，输出该数值的近似整数值。如果小数点后数值大于等于 0.5 ,向上取整；小于 0.5 ，则向下取整。"
   ]
  },
  {
   "cell_type": "code",
   "execution_count": 35,
   "metadata": {},
   "outputs": [
    {
     "name": "stdout",
     "output_type": "stream",
     "text": [
      "6\n"
     ]
    }
   ],
   "source": [
    "# Python 3 uses Bankers Rounding, \n",
    "# which rounds .5 values to the closest even number.\n",
    "x = float(input())\n",
    "xr = round(x)\n",
    "if (int(x) % 2 == 0) and (x - int(x) == 0.5):\n",
    "    print(xr+1)\n",
    "else:\n",
    "    print(xr)\n",
    "\n",
    "# 运行时间：44ms 占用内存：4552KB 使用语言：Python 3 用例通过率：100.00%"
   ]
  },
  {
   "cell_type": "markdown",
   "metadata": {},
   "source": [
    "## HJ8 合并表记录\n",
    "数据表记录包含表索引index和数值value（int范围的正整数），请对表索引相同的记录进行合并，即将相同索引的数值进行求和运算，输出按照index值升序进行输出。"
   ]
  },
  {
   "cell_type": "code",
   "execution_count": 85,
   "metadata": {},
   "outputs": [
    {
     "name": "stdout",
     "output_type": "stream",
     "text": [
      "0 4\n",
      "3 2\n",
      "4 3\n"
     ]
    }
   ],
   "source": [
    "n = int(input())\n",
    "dic = {}\n",
    " \n",
    "# idea: 动态建构字典\n",
    "for i in range(n):\n",
    "    line = input().split()\n",
    "    key = int(line[0])\n",
    "    value = int(line[1])\n",
    "    dic[key] = dic.get(key, 0) + value  # 累积key所对应的value\n",
    " \n",
    "for each in sorted(dic):  # 最后的键值对按照升值排序\n",
    "    print(each, dic[each])\n",
    "\n",
    "#  运行时间：45ms 占用内存：4648KB 使用语言：Python 3 用例通过率：100.00%"
   ]
  },
  {
   "cell_type": "markdown",
   "metadata": {},
   "source": [
    "## HJ9 提取不重复的整数"
   ]
  },
  {
   "cell_type": "code",
   "execution_count": 1,
   "metadata": {},
   "outputs": [
    {
     "name": "stdout",
     "output_type": "stream",
     "text": [
      "{'3': None, '7': None, '6': None, '8': None, '9': None}\n",
      "37689\n"
     ]
    }
   ],
   "source": [
    "a = input()\n",
    "r = []\n",
    "for i in range(1, len(a)+1):\n",
    "    r.append(a[-i])\n",
    "print(dict.fromkeys(r))\n",
    "print(\"\".join(list(dict.fromkeys(r))))\n",
    "\n",
    "# 运行时间：42ms 占用内存：4592KB 使用语言：Python 3 用例通过率：100.00%"
   ]
  },
  {
   "cell_type": "markdown",
   "metadata": {},
   "source": [
    "## HJ10 字符个数统计"
   ]
  },
  {
   "cell_type": "code",
   "execution_count": 108,
   "metadata": {},
   "outputs": [
    {
     "name": "stdout",
     "output_type": "stream",
     "text": [
      "1\n"
     ]
    }
   ],
   "source": [
    "print(len(set(input())))\n",
    "\n",
    "# 运行时间：44ms 占用内存：4548KB 使用语言：Python 3 用例通过率：100.00%"
   ]
  },
  {
   "cell_type": "markdown",
   "metadata": {},
   "source": [
    "## HJ11 数字颠倒"
   ]
  },
  {
   "cell_type": "code",
   "execution_count": 111,
   "metadata": {},
   "outputs": [
    {
     "name": "stdout",
     "output_type": "stream",
     "text": [
      "0006151\n"
     ]
    }
   ],
   "source": [
    "a = input()\n",
    "r = []\n",
    "for i in range(1, len(a)+1):\n",
    "    r.append(a[-i])\n",
    "\n",
    "print(\"\".join(r))\n",
    "# 运行时间：42ms 占用内存：4584KB 使用语言：Python 3 用例通过率：100.00%"
   ]
  },
  {
   "cell_type": "markdown",
   "metadata": {},
   "source": [
    "## HJ12 字符串反转"
   ]
  },
  {
   "cell_type": "code",
   "execution_count": 114,
   "metadata": {},
   "outputs": [
    {
     "name": "stdout",
     "output_type": "stream",
     "text": [
      "1516000\n"
     ]
    }
   ],
   "source": [
    "print(input()[::-1])\n",
    "# 运行时间：30ms 占用内存：4596KB 使用语言：Python 3 用例通过率：100.00%"
   ]
  },
  {
   "cell_type": "markdown",
   "metadata": {},
   "source": [
    "## HJ13 句子逆序"
   ]
  },
  {
   "cell_type": "code",
   "execution_count": 117,
   "metadata": {},
   "outputs": [
    {
     "name": "stdout",
     "output_type": "stream",
     "text": [
      "nowcoder\n"
     ]
    }
   ],
   "source": [
    "print(\" \".join(input().split()[::-1]))\n",
    "#  运行时间：52ms 占用内存：4600KB 使用语言：Python 3 用例通过率：100.00%"
   ]
  },
  {
   "cell_type": "markdown",
   "metadata": {},
   "source": [
    "## HJ14 字符串排序"
   ]
  },
  {
   "cell_type": "code",
   "execution_count": 121,
   "metadata": {},
   "outputs": [
    {
     "name": "stdout",
     "output_type": "stream",
     "text": [
      "cap\n",
      "cap\n",
      "cat\n"
     ]
    }
   ],
   "source": [
    "n = int(input())\n",
    "dic = []\n",
    " \n",
    "for i in range(n):\n",
    "    dic.append(input())\n",
    "    \n",
    "for each in sorted(dic):  \n",
    "    print(each)"
   ]
  },
  {
   "cell_type": "markdown",
   "metadata": {},
   "source": [
    "## HJ15 求int型正整数在内存中存储时1的个数"
   ]
  },
  {
   "cell_type": "code",
   "execution_count": 132,
   "metadata": {},
   "outputs": [
    {
     "data": {
      "text/plain": [
       "11"
      ]
     },
     "execution_count": 132,
     "metadata": {},
     "output_type": "execute_result"
    }
   ],
   "source": [
    "print(bin(int(input())).count('1'))"
   ]
  },
  {
   "cell_type": "markdown",
   "metadata": {},
   "source": [
    "## HJ16 购物单"
   ]
  },
  {
   "cell_type": "code",
   "execution_count": 201,
   "metadata": {},
   "outputs": [],
   "source": [
    "N, m = map(int,input().split())\n",
    "primary, annex = {}, {}\n",
    "for i in range(1,m+1):\n",
    "    v, p, q = map(int, input().split())\n",
    "    if q==0:\n",
    "        primary[i] = [v, p]\n",
    "    else:\n",
    "        if q in annex:\n",
    "            annex[q].append([v, p])\n",
    "        else:\n",
    "            annex[q] = [[v, p]]"
   ]
  },
  {
   "cell_type": "code",
   "execution_count": 220,
   "metadata": {},
   "outputs": [
    {
     "data": {
      "text/plain": [
       "{1: [800, 2], 4: [400, 3], 5: [500, 2]}"
      ]
     },
     "execution_count": 220,
     "metadata": {},
     "output_type": "execute_result"
    }
   ],
   "source": [
    "primary"
   ]
  },
  {
   "cell_type": "code",
   "execution_count": 221,
   "metadata": {},
   "outputs": [
    {
     "data": {
      "text/plain": [
       "[[400, 5], [300, 5]]"
      ]
     },
     "execution_count": 221,
     "metadata": {},
     "output_type": "execute_result"
    }
   ],
   "source": [
    "annex[1]"
   ]
  },
  {
   "cell_type": "code",
   "execution_count": 207,
   "metadata": {},
   "outputs": [
    {
     "name": "stdout",
     "output_type": "stream",
     "text": [
      "([400, 5], [300, 5])\n",
      "([300, 5], [400, 5])\n"
     ]
    }
   ],
   "source": [
    "from itertools import permutations\n",
    "for i in permutations(annex[1]):\n",
    "    print(i)"
   ]
  },
  {
   "cell_type": "code",
   "execution_count": 223,
   "metadata": {},
   "outputs": [
    {
     "data": {
      "text/plain": [
       "[300, 5]"
      ]
     },
     "execution_count": 223,
     "metadata": {},
     "output_type": "execute_result"
    }
   ],
   "source": [
    "annex[1][1]"
   ]
  },
  {
   "cell_type": "code",
   "execution_count": 224,
   "metadata": {},
   "outputs": [
    {
     "ename": "TypeError",
     "evalue": "unsupported operand type(s) for -: 'NoneType' and 'int'",
     "output_type": "error",
     "traceback": [
      "\u001b[0;31m---------------------------------------------------------------------------\u001b[0m",
      "\u001b[0;31mTypeError\u001b[0m                                 Traceback (most recent call last)",
      "\u001b[1;32m/Users/aubrey/Documents/Obsidian/Leetcode.ipynb Cell 39\u001b[0m in \u001b[0;36m<cell line: 3>\u001b[0;34m()\u001b[0m\n\u001b[1;32m      <a href='vscode-notebook-cell:/Users/aubrey/Documents/Obsidian/Leetcode.ipynb#Y136sZmlsZQ%3D%3D?line=1'>2</a>\u001b[0m checklist_annex \u001b[39m=\u001b[39m {}\n\u001b[1;32m      <a href='vscode-notebook-cell:/Users/aubrey/Documents/Obsidian/Leetcode.ipynb#Y136sZmlsZQ%3D%3D?line=2'>3</a>\u001b[0m \u001b[39mfor\u001b[39;00m key \u001b[39min\u001b[39;00m primary:\n\u001b[0;32m----> <a href='vscode-notebook-cell:/Users/aubrey/Documents/Obsidian/Leetcode.ipynb#Y136sZmlsZQ%3D%3D?line=3'>4</a>\u001b[0m     checklist \u001b[39m=\u001b[39m rest(checklist, primary[key])\n\u001b[1;32m      <a href='vscode-notebook-cell:/Users/aubrey/Documents/Obsidian/Leetcode.ipynb#Y136sZmlsZQ%3D%3D?line=4'>5</a>\u001b[0m     \u001b[39mif\u001b[39;00m key \u001b[39min\u001b[39;00m annex:\n\u001b[1;32m      <a href='vscode-notebook-cell:/Users/aubrey/Documents/Obsidian/Leetcode.ipynb#Y136sZmlsZQ%3D%3D?line=5'>6</a>\u001b[0m         checklist_annex[key] \u001b[39m=\u001b[39m []\n",
      "\u001b[1;32m/Users/aubrey/Documents/Obsidian/Leetcode.ipynb Cell 39\u001b[0m in \u001b[0;36mrest\u001b[0;34m(checklist, ob)\u001b[0m\n\u001b[1;32m      <a href='vscode-notebook-cell:/Users/aubrey/Documents/Obsidian/Leetcode.ipynb#Y136sZmlsZQ%3D%3D?line=0'>1</a>\u001b[0m \u001b[39mdef\u001b[39;00m \u001b[39mrest\u001b[39m(checklist,ob):\n\u001b[0;32m----> <a href='vscode-notebook-cell:/Users/aubrey/Documents/Obsidian/Leetcode.ipynb#Y136sZmlsZQ%3D%3D?line=1'>2</a>\u001b[0m     money_rest \u001b[39m=\u001b[39m checklist[\u001b[39m0\u001b[39;49m] \u001b[39m-\u001b[39;49m ob[\u001b[39m0\u001b[39;49m]\n\u001b[1;32m      <a href='vscode-notebook-cell:/Users/aubrey/Documents/Obsidian/Leetcode.ipynb#Y136sZmlsZQ%3D%3D?line=2'>3</a>\u001b[0m     \u001b[39mif\u001b[39;00m money_rest \u001b[39m<\u001b[39m \u001b[39m0\u001b[39m:\n\u001b[1;32m      <a href='vscode-notebook-cell:/Users/aubrey/Documents/Obsidian/Leetcode.ipynb#Y136sZmlsZQ%3D%3D?line=3'>4</a>\u001b[0m         satisfaction_rest \u001b[39m=\u001b[39m checklist[\u001b[39m1\u001b[39m]\n",
      "\u001b[0;31mTypeError\u001b[0m: unsupported operand type(s) for -: 'NoneType' and 'int'"
     ]
    }
   ],
   "source": [
    "checklist = [N, 0]\n",
    "checklist_annex = {}\n",
    "for key in primary:\n",
    "    checklist = rest(checklist, primary[key])\n",
    "    if key in annex:\n",
    "        checklist_annex[key] = []\n",
    "        for i in range(len(annex[key])):\n",
    "            checklist_temp = rest(checklist, annex[key][i])\n",
    "            if checklist_temp[0] != None:\n",
    "                checklist_annex[key].append(checklist_temp)\n",
    "        "
   ]
  },
  {
   "cell_type": "code",
   "execution_count": 227,
   "metadata": {},
   "outputs": [
    {
     "data": {
      "text/plain": [
       "[None, 2000]"
      ]
     },
     "execution_count": 227,
     "metadata": {},
     "output_type": "execute_result"
    }
   ],
   "source": [
    "checklist"
   ]
  },
  {
   "cell_type": "code",
   "execution_count": 226,
   "metadata": {},
   "outputs": [
    {
     "data": {
      "text/plain": [
       "[500, 2]"
      ]
     },
     "execution_count": 226,
     "metadata": {},
     "output_type": "execute_result"
    }
   ],
   "source": [
    "primary[key]"
   ]
  },
  {
   "cell_type": "code",
   "execution_count": 210,
   "metadata": {},
   "outputs": [
    {
     "ename": "KeyError",
     "evalue": "5",
     "output_type": "error",
     "traceback": [
      "\u001b[0;31m---------------------------------------------------------------------------\u001b[0m",
      "\u001b[0;31mKeyError\u001b[0m                                  Traceback (most recent call last)",
      "\u001b[1;32m/Users/aubrey/Documents/Obsidian/Leetcode.ipynb Cell 39\u001b[0m in \u001b[0;36m<cell line: 1>\u001b[0;34m()\u001b[0m\n\u001b[0;32m----> <a href='vscode-notebook-cell:/Users/aubrey/Documents/Obsidian/Leetcode.ipynb#Y142sZmlsZQ%3D%3D?line=0'>1</a>\u001b[0m annex[key][i]\n",
      "\u001b[0;31mKeyError\u001b[0m: 5"
     ]
    }
   ],
   "source": [
    "annex[key][i]"
   ]
  },
  {
   "cell_type": "code",
   "execution_count": 191,
   "metadata": {},
   "outputs": [],
   "source": [
    "l_sorted = sorted(l, key=lambda x: x[2])"
   ]
  },
  {
   "cell_type": "code",
   "execution_count": 192,
   "metadata": {},
   "outputs": [
    {
     "data": {
      "text/plain": [
       "[0, 3, 4]"
      ]
     },
     "execution_count": 192,
     "metadata": {},
     "output_type": "execute_result"
    }
   ],
   "source": [
    "major_num"
   ]
  },
  {
   "cell_type": "markdown",
   "metadata": {},
   "source": []
  },
  {
   "cell_type": "code",
   "execution_count": 2,
   "metadata": {},
   "outputs": [],
   "source": [
    "def rest(checklist,ob):\n",
    "    money_rest = checklist[0] - ob[0]\n",
    "    if money_rest < 0:\n",
    "        satisfaction_rest = checklist[1]\n",
    "        return [None,satisfaction_rest]\n",
    "    else:\n",
    "        satisfaction_rest = checklist[1] + ob[1]*checklist[0]\n",
    "        return [money_rest,satisfaction_rest]"
   ]
  },
  {
   "cell_type": "code",
   "execution_count": 185,
   "metadata": {},
   "outputs": [
    {
     "data": {
      "text/plain": [
       "[[800, 2, 0], [400, 3, 0], [500, 2, 0], [400, 5, 1], [300, 5, 1]]"
      ]
     },
     "execution_count": 185,
     "metadata": {},
     "output_type": "execute_result"
    }
   ],
   "source": [
    "l_sorted"
   ]
  },
  {
   "cell_type": "code",
   "execution_count": 178,
   "metadata": {},
   "outputs": [],
   "source": [
    "from itertools import permutations\n",
    "satisfaction = []\n",
    "checklist = [N, 0, None]\n",
    "major_type = []\n",
    "l_sorted_rest = l_sorted.copy()\n",
    "for i in primary:\n",
    "    for j in permutations(l_sorted_rest):\n",
    "        while checklist[0] != None:\n",
    "        \n",
    "            if l_sorted_rest[j][2] == 0:\n",
    "                major_type.append(j+1)\n",
    "                checklist = rest(checklist,l_sorted_rest[j])\n",
    "                l_sorted_rest = l_sorted_rest[:j]+l_sorted_rest[j+1:]\n",
    "            else:\n",
    "                if l_sorted_rest[j][2] not in major_type:\n",
    "                    continue\n",
    "                else:\n",
    "                    checklist = rest(checklist,l_sorted_rest[j])\n",
    "                    l_sorted_rest = l_sorted_rest[:j]+l_sorted_rest[j+1:]\n",
    "    else:\n",
    "        satisfaction.append(checklist[1])"
   ]
  },
  {
   "cell_type": "code",
   "execution_count": 173,
   "metadata": {},
   "outputs": [
    {
     "data": {
      "text/plain": [
       "[[800, 2, 0], [400, 3, 0]]"
      ]
     },
     "execution_count": 173,
     "metadata": {},
     "output_type": "execute_result"
    }
   ],
   "source": [
    "satisfaction = []\n",
    "for i in range(len(l_sorted)):\n",
    "    satisfaction.append(search(i, l_sorted))\n",
    "    l_sorted.pop(i)"
   ]
  },
  {
   "cell_type": "code",
   "execution_count": 176,
   "metadata": {},
   "outputs": [
    {
     "data": {
      "text/plain": [
       "[2000]"
      ]
     },
     "execution_count": 176,
     "metadata": {},
     "output_type": "execute_result"
    }
   ],
   "source": [
    "satisfaction"
   ]
  },
  {
   "cell_type": "code",
   "execution_count": 155,
   "metadata": {},
   "outputs": [],
   "source": [
    "checklist = [N, 0, None]"
   ]
  },
  {
   "cell_type": "code",
   "execution_count": 156,
   "metadata": {},
   "outputs": [
    {
     "data": {
      "text/plain": [
       "True"
      ]
     },
     "execution_count": 156,
     "metadata": {},
     "output_type": "execute_result"
    }
   ],
   "source": [
    "checklist != [None,None,None]"
   ]
  },
  {
   "cell_type": "code",
   "execution_count": 25,
   "metadata": {},
   "outputs": [],
   "source": [
    "# check whether the budget is reached\n",
    "def rest(checklist,ob):\n",
    "    money_rest = checklist[0] - ob[0]\n",
    "    if money_rest < 0:\n",
    "        satisfaction_rest = checklist[1]\n",
    "        return [None,satisfaction_rest]\n",
    "    else:\n",
    "        satisfaction_rest = checklist[1] + ob[1]*checklist[0]\n",
    "        return [money_rest,satisfaction_rest]\n",
    "# read the numbers\n",
    "N, m = map(int,input().split())\n",
    "primary, annex = {}, {}\n",
    "for i in range(1,m+1):\n",
    "    v, p, q = map(int, input().split())\n",
    "    if q==0:\n",
    "        primary[i] = [v, p]\n",
    "    else:\n",
    "        if q in annex:\n",
    "            annex[q].append([v, p])\n",
    "        else:\n",
    "            annex[q] = [[v, p]]\n",
    "\n",
    "# permute the options\n",
    "from itertools import permutations\n",
    "satisfaction = []\n",
    "checklist = [N, 0, None]\n",
    "major_type = []"
   ]
  },
  {
   "cell_type": "code",
   "execution_count": 64,
   "metadata": {},
   "outputs": [
    {
     "data": {
      "text/plain": [
       "[1000, 0, None]"
      ]
     },
     "execution_count": 64,
     "metadata": {},
     "output_type": "execute_result"
    }
   ],
   "source": [
    "checklist"
   ]
  },
  {
   "cell_type": "code",
   "execution_count": 62,
   "metadata": {},
   "outputs": [
    {
     "name": "stdout",
     "output_type": "stream",
     "text": [
      "[[4, 400, 3], [5, 500, 2], [[1, 400, 5], [1, 300, 5]]]\n",
      "([4, 400, 3], [5, 500, 2], [[1, 400, 5], [1, 300, 5]])\n",
      "([4, 400, 3], [[1, 400, 5], [1, 300, 5]], [5, 500, 2])\n",
      "([5, 500, 2], [4, 400, 3], [[1, 400, 5], [1, 300, 5]])\n",
      "([5, 500, 2], [[1, 400, 5], [1, 300, 5]], [4, 400, 3])\n",
      "([[1, 400, 5], [1, 300, 5]], [4, 400, 3], [5, 500, 2])\n",
      "([[1, 400, 5], [1, 300, 5]], [5, 500, 2], [4, 400, 3])\n",
      "[[4, 400, 3], [5, 500, 2], [[1, 400, 5], [1, 300, 5]]]\n",
      "([4, 400, 3], [5, 500, 2], [[1, 400, 5], [1, 300, 5]])\n",
      "([4, 400, 3], [[1, 400, 5], [1, 300, 5]], [5, 500, 2])\n",
      "([5, 500, 2], [4, 400, 3], [[1, 400, 5], [1, 300, 5]])\n",
      "([5, 500, 2], [[1, 400, 5], [1, 300, 5]], [4, 400, 3])\n",
      "([[1, 400, 5], [1, 300, 5]], [4, 400, 3], [5, 500, 2])\n",
      "([[1, 400, 5], [1, 300, 5]], [5, 500, 2], [4, 400, 3])\n",
      "[[4, 400, 3], [5, 500, 2], [[1, 400, 5], [1, 300, 5]]]\n",
      "([4, 400, 3], [5, 500, 2], [[1, 400, 5], [1, 300, 5]])\n",
      "([4, 400, 3], [[1, 400, 5], [1, 300, 5]], [5, 500, 2])\n",
      "([5, 500, 2], [4, 400, 3], [[1, 400, 5], [1, 300, 5]])\n",
      "([5, 500, 2], [[1, 400, 5], [1, 300, 5]], [4, 400, 3])\n",
      "([[1, 400, 5], [1, 300, 5]], [4, 400, 3], [5, 500, 2])\n",
      "([[1, 400, 5], [1, 300, 5]], [5, 500, 2], [4, 400, 3])\n"
     ]
    }
   ],
   "source": [
    "for i in primary.keys():\n",
    "    primary_copy = primary.copy()\n",
    "    if i in primary_copy: del primary_copy[1]\n",
    "    primary_rest = primary_copy | {1: annex[1]}\n",
    "    primary_rest_list = [[key] + value if not isinstance(value[0], list)\\\n",
    "         else [[key] + sublist for sublist in value] for key, value \\\n",
    "            in primary_rest.items()]\n",
    "    for j in permutations(primary_rest_list):\n",
    "        while checklist[2] != None:\n",
    "            checklist = rest(checklist,primary_rest_list[j])\n",
    "            primary_rest_list = primary_rest_list[:j]+primary_rest_list[j+1:]\n",
    "        else:\n",
    "            satisfaction.append(checklist[1])"
   ]
  },
  {
   "cell_type": "code",
   "execution_count": 63,
   "metadata": {},
   "outputs": [
    {
     "data": {
      "text/plain": [
       "[0, 0, 0, 0, 0, 0, 0, 0, 0, 0, 0, 0, 0, 0, 0, 0, 0, 0]"
      ]
     },
     "execution_count": 63,
     "metadata": {},
     "output_type": "execute_result"
    }
   ],
   "source": [
    "satisfaction"
   ]
  },
  {
   "cell_type": "code",
   "execution_count": 58,
   "metadata": {},
   "outputs": [
    {
     "data": {
      "text/plain": [
       "[[4, 400, 3], [5, 500, 2], [[1, 400, 5], [1, 300, 5]]]"
      ]
     },
     "execution_count": 58,
     "metadata": {},
     "output_type": "execute_result"
    }
   ],
   "source": [
    "primary_rest_list"
   ]
  },
  {
   "cell_type": "code",
   "execution_count": 158,
   "metadata": {},
   "outputs": [
    {
     "data": {
      "text/plain": [
       "[1, 2]"
      ]
     },
     "execution_count": 158,
     "metadata": {},
     "output_type": "execute_result"
    }
   ],
   "source": [
    "major_type"
   ]
  },
  {
   "cell_type": "code",
   "execution_count": 157,
   "metadata": {},
   "outputs": [
    {
     "data": {
      "text/plain": [
       "[[800, 2, 0], [400, 3, 0], [500, 2, 0], [400, 5, 1], [300, 5, 1]]"
      ]
     },
     "execution_count": 157,
     "metadata": {},
     "output_type": "execute_result"
    }
   ],
   "source": [
    "l_sorted"
   ]
  },
  {
   "cell_type": "code",
   "execution_count": null,
   "metadata": {},
   "outputs": [],
   "source": [
    "import numpy as np\n",
    " \n",
    "#行李数n，不超过的重量W，重量列表w和价值列表p\n",
    "def fun(n,W,w,p):\n",
    "\ta=np.array([[0]*(W+1)]*(n+1))\n",
    "\t#依次计算前i个行李的最大价值，n+1在n的基础上进行\n",
    "\tfor i in range(1,n+1):\n",
    "\t\tfor j in range(1,W+1):\n",
    "\t\t\tif w[i-1]>j:\n",
    "\t\t\t\ta[i,j]=a[i-1,j]\n",
    "\t\t\telse:\n",
    "\t\t\t\ta[i,j]=max(a[i-1,j],p[i-1]+a[i-1,j-w[i-1]])#2种情况取最大值\n",
    "\t#print(a)\n",
    "\tprint('max value is'+str(a[n,W]))\n",
    "\tfindDetail(p,n,a[n,W])\n",
    "#找到价值列表中的一个子集，使得其和等于前面求出的最大价值，即为选择方案\n",
    "def findDetail(p,n,v):\n",
    "\ta=np.array([[True]*(v+1)]*(n+1))\n",
    "\tfor i in range(0,n+1):\n",
    "\t\ta[i][0]=True\n",
    "\tfor i in range(1,v+1):\n",
    "\t\ta[0][i]=False\n",
    "\tfor i in range(1,n+1):\n",
    "\t\tfor j in range(1,v+1):\n",
    "\t\t\tif p[i-1]>j:\n",
    "\t\t\t\ta[i,j]=a[i-1,j]\n",
    "\t\t\telse:\n",
    "\t\t\t\ta[i,j]=a[i-1,j] or a[i-1,j-p[i-1]]\n",
    "\tif a[n,v]:\n",
    "\t\ti=n\n",
    "\t\tresult=[]\n",
    "\t\twhile i>=0:\n",
    "\t\t\tif a[i,v] and not a[i-1,v]:\n",
    "\t\t\t\tresult.append(p[i-1])\n",
    "\t\t\t\tv-=p[i-1]\n",
    "\t\t\tif v==0:\n",
    "\t\t\t\tbreak\n",
    "\t\t\ti-=1\n",
    "\t\tprint(result)\n",
    "\telse:\n",
    "\t\tprint('error')\n",
    "weights=[1,2,5,6,7,9]\n",
    "price=[1,6,18,22,28,36]\n",
    "fun(len(weights),13,weights,price)"
   ]
  },
  {
   "cell_type": "code",
   "execution_count": 262,
   "metadata": {},
   "outputs": [
    {
     "name": "stdout",
     "output_type": "stream",
     "text": [
      "      Fee Duration  Courses\n",
      "r1  20000   30days    Spark\n",
      "r2  25000   40days  PySpark\n",
      "r3  22000   35days   Python\n",
      "r4  30000   50days   pandas\n",
      "   Courses  Discount\n",
      "r1   Spark      2000\n",
      "r6    Java      2300\n",
      "r3  Python      1200\n",
      "r5      Go      2000\n"
     ]
    }
   ],
   "source": [
    "import pandas as pd\n",
    "technologies = {\n",
    "    'Fee' :[20000,25000,22000,30000],\n",
    "    'Duration':['30days','40days','35days','50days'],\n",
    "    'Courses':[\"Spark\",\"PySpark\",\"Python\",\"pandas\"]\n",
    "              }\n",
    "index_labels=['r1','r2','r3','r4']\n",
    "df1 = pd.DataFrame(technologies,index=index_labels)\n",
    "\n",
    "technologies2 = {\n",
    "    'Courses':[\"Spark\",\"Java\",\"Python\",\"Go\"],\n",
    "    'Discount':[2000,2300,1200,2000]\n",
    "              }\n",
    "index_labels2=['r1','r6','r3','r5']\n",
    "df2 = pd.DataFrame(technologies2,index=index_labels2)\n",
    "\n",
    "print(df1)\n",
    "print(df2)"
   ]
  },
  {
   "cell_type": "code",
   "execution_count": 5,
   "metadata": {},
   "outputs": [],
   "source": [
    "from pyspark.sql import SparkSession\n",
    "from pyspark.sql.types import StructType,StructField, StringType, IntegerType\n",
    "\n",
    "spark = SparkSession.getActiveSession()"
   ]
  },
  {
   "cell_type": "code",
   "execution_count": 13,
   "metadata": {},
   "outputs": [
    {
     "ename": "AttributeError",
     "evalue": "'NoneType' object has no attribute 'createDataFrame'",
     "output_type": "error",
     "traceback": [
      "\u001b[0;31m---------------------------------------------------------------------------\u001b[0m",
      "\u001b[0;31mAttributeError\u001b[0m                            Traceback (most recent call last)",
      "\u001b[1;32m/Users/aubrey/Documents/Obsidian/Leetcode.ipynb Cell 60\u001b[0m in \u001b[0;36m<cell line: 5>\u001b[0;34m()\u001b[0m\n\u001b[1;32m      <a href='vscode-notebook-cell:/Users/aubrey/Documents/Obsidian/Leetcode.ipynb#Y161sZmlsZQ%3D%3D?line=0'>1</a>\u001b[0m \u001b[39mfrom\u001b[39;00m \u001b[39mpyspark\u001b[39;00m\u001b[39m.\u001b[39;00m\u001b[39msql\u001b[39;00m\u001b[39m.\u001b[39;00m\u001b[39mtypes\u001b[39;00m \u001b[39mimport\u001b[39;00m \u001b[39m*\u001b[39m\n\u001b[1;32m      <a href='vscode-notebook-cell:/Users/aubrey/Documents/Obsidian/Leetcode.ipynb#Y161sZmlsZQ%3D%3D?line=1'>2</a>\u001b[0m schema \u001b[39m=\u001b[39m StructType([\n\u001b[1;32m      <a href='vscode-notebook-cell:/Users/aubrey/Documents/Obsidian/Leetcode.ipynb#Y161sZmlsZQ%3D%3D?line=2'>3</a>\u001b[0m    StructField(\u001b[39m\"\u001b[39m\u001b[39mname\u001b[39m\u001b[39m\"\u001b[39m, StringType(), \u001b[39mTrue\u001b[39;00m),\n\u001b[1;32m      <a href='vscode-notebook-cell:/Users/aubrey/Documents/Obsidian/Leetcode.ipynb#Y161sZmlsZQ%3D%3D?line=3'>4</a>\u001b[0m    StructField(\u001b[39m\"\u001b[39m\u001b[39mage\u001b[39m\u001b[39m\"\u001b[39m, IntegerType(), \u001b[39mTrue\u001b[39;00m)])\n\u001b[0;32m----> <a href='vscode-notebook-cell:/Users/aubrey/Documents/Obsidian/Leetcode.ipynb#Y161sZmlsZQ%3D%3D?line=4'>5</a>\u001b[0m df3 \u001b[39m=\u001b[39m spark\u001b[39m.\u001b[39;49mcreateDataFrame(rdd, schema)\n\u001b[1;32m      <a href='vscode-notebook-cell:/Users/aubrey/Documents/Obsidian/Leetcode.ipynb#Y161sZmlsZQ%3D%3D?line=5'>6</a>\u001b[0m df3\u001b[39m.\u001b[39mcollect()\n",
      "\u001b[0;31mAttributeError\u001b[0m: 'NoneType' object has no attribute 'createDataFrame'"
     ]
    }
   ],
   "source": [
    "from pyspark.sql.types import *\n",
    "schema = StructType([\n",
    "   StructField(\"name\", StringType(), True),\n",
    "   StructField(\"age\", IntegerType(), True)])\n",
    "df3 = spark.createDataFrame(rdd, schema)\n",
    "df3.collect()\n"
   ]
  },
  {
   "cell_type": "code",
   "execution_count": 6,
   "metadata": {},
   "outputs": [],
   "source": [
    "emp = [(1,\"Smith\",-1,\"2018\",\"10\",\"M\",3000), \\\n",
    "    (2,\"Rose\",1,\"2010\",\"20\",\"M\",4000), \\\n",
    "    (3,\"Williams\",1,\"2010\",\"10\",\"M\",1000), \\\n",
    "    (4,\"Jones\",2,\"2005\",\"10\",\"F\",2000), \\\n",
    "    (5,\"Brown\",2,\"2010\",\"40\",\"\",-1), \\\n",
    "      (6,\"Brown\",2,\"2010\",\"50\",\"\",-1) \\\n",
    "  ]\n",
    "empColumns = [\"emp_id\",\"name\",\"superior_emp_id\",\"year_joined\", \\\n",
    "       \"emp_dept_id\",\"gender\",\"salary\"]"
   ]
  },
  {
   "cell_type": "code",
   "execution_count": 10,
   "metadata": {},
   "outputs": [
    {
     "ename": "AttributeError",
     "evalue": "'NoneType' object has no attribute 'createDataFrame'",
     "output_type": "error",
     "traceback": [
      "\u001b[0;31m---------------------------------------------------------------------------\u001b[0m",
      "\u001b[0;31mAttributeError\u001b[0m                            Traceback (most recent call last)",
      "\u001b[1;32m/Users/aubrey/Documents/Obsidian/Leetcode.ipynb Cell 61\u001b[0m in \u001b[0;36m<cell line: 1>\u001b[0;34m()\u001b[0m\n\u001b[0;32m----> <a href='vscode-notebook-cell:/Users/aubrey/Documents/Obsidian/Leetcode.ipynb#Y160sZmlsZQ%3D%3D?line=0'>1</a>\u001b[0m empDF \u001b[39m=\u001b[39m spark\u001b[39m.\u001b[39;49mcreateDataFrame(emp)\u001b[39m.\u001b[39mtoDF(\u001b[39m*\u001b[39mempColumns)\n",
      "\u001b[0;31mAttributeError\u001b[0m: 'NoneType' object has no attribute 'createDataFrame'"
     ]
    }
   ],
   "source": [
    "empDF = spark.createDataFrame(emp).toDF(*empColumns)"
   ]
  },
  {
   "cell_type": "code",
   "execution_count": 9,
   "metadata": {},
   "outputs": [
    {
     "ename": "AttributeError",
     "evalue": "'NoneType' object has no attribute 'createDataFrame'",
     "output_type": "error",
     "traceback": [
      "\u001b[0;31m---------------------------------------------------------------------------\u001b[0m",
      "\u001b[0;31mAttributeError\u001b[0m                            Traceback (most recent call last)",
      "\u001b[1;32m/Users/aubrey/Documents/Obsidian/Leetcode.ipynb Cell 62\u001b[0m in \u001b[0;36m<cell line: 14>\u001b[0;34m()\u001b[0m\n\u001b[1;32m      <a href='vscode-notebook-cell:/Users/aubrey/Documents/Obsidian/Leetcode.ipynb#Y150sZmlsZQ%3D%3D?line=3'>4</a>\u001b[0m emp \u001b[39m=\u001b[39m [(\u001b[39m1\u001b[39m,\u001b[39m\"\u001b[39m\u001b[39mSmith\u001b[39m\u001b[39m\"\u001b[39m,\u001b[39m-\u001b[39m\u001b[39m1\u001b[39m,\u001b[39m\"\u001b[39m\u001b[39m2018\u001b[39m\u001b[39m\"\u001b[39m,\u001b[39m\"\u001b[39m\u001b[39m10\u001b[39m\u001b[39m\"\u001b[39m,\u001b[39m\"\u001b[39m\u001b[39mM\u001b[39m\u001b[39m\"\u001b[39m,\u001b[39m3000\u001b[39m), \\\n\u001b[1;32m      <a href='vscode-notebook-cell:/Users/aubrey/Documents/Obsidian/Leetcode.ipynb#Y150sZmlsZQ%3D%3D?line=4'>5</a>\u001b[0m     (\u001b[39m2\u001b[39m,\u001b[39m\"\u001b[39m\u001b[39mRose\u001b[39m\u001b[39m\"\u001b[39m,\u001b[39m1\u001b[39m,\u001b[39m\"\u001b[39m\u001b[39m2010\u001b[39m\u001b[39m\"\u001b[39m,\u001b[39m\"\u001b[39m\u001b[39m20\u001b[39m\u001b[39m\"\u001b[39m,\u001b[39m\"\u001b[39m\u001b[39mM\u001b[39m\u001b[39m\"\u001b[39m,\u001b[39m4000\u001b[39m), \\\n\u001b[1;32m      <a href='vscode-notebook-cell:/Users/aubrey/Documents/Obsidian/Leetcode.ipynb#Y150sZmlsZQ%3D%3D?line=5'>6</a>\u001b[0m     (\u001b[39m3\u001b[39m,\u001b[39m\"\u001b[39m\u001b[39mWilliams\u001b[39m\u001b[39m\"\u001b[39m,\u001b[39m1\u001b[39m,\u001b[39m\"\u001b[39m\u001b[39m2010\u001b[39m\u001b[39m\"\u001b[39m,\u001b[39m\"\u001b[39m\u001b[39m10\u001b[39m\u001b[39m\"\u001b[39m,\u001b[39m\"\u001b[39m\u001b[39mM\u001b[39m\u001b[39m\"\u001b[39m,\u001b[39m1000\u001b[39m), \\\n\u001b[0;32m   (...)\u001b[0m\n\u001b[1;32m      <a href='vscode-notebook-cell:/Users/aubrey/Documents/Obsidian/Leetcode.ipynb#Y150sZmlsZQ%3D%3D?line=8'>9</a>\u001b[0m       (\u001b[39m6\u001b[39m,\u001b[39m\"\u001b[39m\u001b[39mBrown\u001b[39m\u001b[39m\"\u001b[39m,\u001b[39m2\u001b[39m,\u001b[39m\"\u001b[39m\u001b[39m2010\u001b[39m\u001b[39m\"\u001b[39m,\u001b[39m\"\u001b[39m\u001b[39m50\u001b[39m\u001b[39m\"\u001b[39m,\u001b[39m\"\u001b[39m\u001b[39m\"\u001b[39m,\u001b[39m-\u001b[39m\u001b[39m1\u001b[39m) \\\n\u001b[1;32m     <a href='vscode-notebook-cell:/Users/aubrey/Documents/Obsidian/Leetcode.ipynb#Y150sZmlsZQ%3D%3D?line=9'>10</a>\u001b[0m   ]\n\u001b[1;32m     <a href='vscode-notebook-cell:/Users/aubrey/Documents/Obsidian/Leetcode.ipynb#Y150sZmlsZQ%3D%3D?line=10'>11</a>\u001b[0m empColumns \u001b[39m=\u001b[39m [\u001b[39m\"\u001b[39m\u001b[39memp_id\u001b[39m\u001b[39m\"\u001b[39m,\u001b[39m\"\u001b[39m\u001b[39mname\u001b[39m\u001b[39m\"\u001b[39m,\u001b[39m\"\u001b[39m\u001b[39msuperior_emp_id\u001b[39m\u001b[39m\"\u001b[39m,\u001b[39m\"\u001b[39m\u001b[39myear_joined\u001b[39m\u001b[39m\"\u001b[39m, \\\n\u001b[1;32m     <a href='vscode-notebook-cell:/Users/aubrey/Documents/Obsidian/Leetcode.ipynb#Y150sZmlsZQ%3D%3D?line=11'>12</a>\u001b[0m        \u001b[39m\"\u001b[39m\u001b[39memp_dept_id\u001b[39m\u001b[39m\"\u001b[39m,\u001b[39m\"\u001b[39m\u001b[39mgender\u001b[39m\u001b[39m\"\u001b[39m,\u001b[39m\"\u001b[39m\u001b[39msalary\u001b[39m\u001b[39m\"\u001b[39m]\n\u001b[0;32m---> <a href='vscode-notebook-cell:/Users/aubrey/Documents/Obsidian/Leetcode.ipynb#Y150sZmlsZQ%3D%3D?line=13'>14</a>\u001b[0m empDF \u001b[39m=\u001b[39m spark\u001b[39m.\u001b[39;49mcreateDataFrame(emp)\u001b[39m.\u001b[39mtoDF(\u001b[39m*\u001b[39mempColumns)\n\u001b[1;32m     <a href='vscode-notebook-cell:/Users/aubrey/Documents/Obsidian/Leetcode.ipynb#Y150sZmlsZQ%3D%3D?line=14'>15</a>\u001b[0m empDF\u001b[39m.\u001b[39mprintSchema()\n\u001b[1;32m     <a href='vscode-notebook-cell:/Users/aubrey/Documents/Obsidian/Leetcode.ipynb#Y150sZmlsZQ%3D%3D?line=15'>16</a>\u001b[0m empDF\u001b[39m.\u001b[39mshow(truncate\u001b[39m=\u001b[39m\u001b[39mFalse\u001b[39;00m)\n",
      "\u001b[0;31mAttributeError\u001b[0m: 'NoneType' object has no attribute 'createDataFrame'"
     ]
    }
   ],
   "source": [
    "from pyspark.sql import SparkSession\n",
    "\n",
    "spark = SparkSession.getActiveSession()\n",
    "emp = [(1,\"Smith\",-1,\"2018\",\"10\",\"M\",3000), \\\n",
    "    (2,\"Rose\",1,\"2010\",\"20\",\"M\",4000), \\\n",
    "    (3,\"Williams\",1,\"2010\",\"10\",\"M\",1000), \\\n",
    "    (4,\"Jones\",2,\"2005\",\"10\",\"F\",2000), \\\n",
    "    (5,\"Brown\",2,\"2010\",\"40\",\"\",-1), \\\n",
    "      (6,\"Brown\",2,\"2010\",\"50\",\"\",-1) \\\n",
    "  ]\n",
    "empColumns = [\"emp_id\",\"name\",\"superior_emp_id\",\"year_joined\", \\\n",
    "       \"emp_dept_id\",\"gender\",\"salary\"]\n",
    "\n",
    "empDF = spark.createDataFrame(emp).toDF(*empColumns)\n",
    "empDF.printSchema()\n",
    "empDF.show(truncate=False)\n",
    "\n",
    "dept = [(\"Finance\",10), \\\n",
    "    (\"Marketing\",20), \\\n",
    "    (\"Sales\",30), \\\n",
    "    (\"IT\",40) \\\n",
    "  ]\n",
    "deptColumns = [\"dept_name\",\"dept_id\"]\n",
    "deptDF = spark.createDataFrame(dept).toDF(*deptColumns)\n",
    "deptDF.printSchema()\n",
    "deptDF.show(truncate=False)"
   ]
  },
  {
   "cell_type": "code",
   "execution_count": 253,
   "metadata": {},
   "outputs": [
    {
     "data": {
      "text/html": [
       "<div>\n",
       "<style scoped>\n",
       "    .dataframe tbody tr th:only-of-type {\n",
       "        vertical-align: middle;\n",
       "    }\n",
       "\n",
       "    .dataframe tbody tr th {\n",
       "        vertical-align: top;\n",
       "    }\n",
       "\n",
       "    .dataframe thead th {\n",
       "        text-align: right;\n",
       "    }\n",
       "</style>\n",
       "<table border=\"1\" class=\"dataframe\">\n",
       "  <thead>\n",
       "    <tr style=\"text-align: right;\">\n",
       "      <th></th>\n",
       "      <th>Duration</th>\n",
       "      <th>Discount</th>\n",
       "    </tr>\n",
       "  </thead>\n",
       "  <tbody>\n",
       "    <tr>\n",
       "      <th>0</th>\n",
       "      <td>30days</td>\n",
       "      <td>2000.0</td>\n",
       "    </tr>\n",
       "    <tr>\n",
       "      <th>1</th>\n",
       "      <td>40days</td>\n",
       "      <td>NaN</td>\n",
       "    </tr>\n",
       "    <tr>\n",
       "      <th>2</th>\n",
       "      <td>35days</td>\n",
       "      <td>1200.0</td>\n",
       "    </tr>\n",
       "    <tr>\n",
       "      <th>3</th>\n",
       "      <td>50days</td>\n",
       "      <td>NaN</td>\n",
       "    </tr>\n",
       "  </tbody>\n",
       "</table>\n",
       "</div>"
      ],
      "text/plain": [
       "  Duration  Discount\n",
       "0   30days    2000.0\n",
       "1   40days       NaN\n",
       "2   35days    1200.0\n",
       "3   50days       NaN"
      ]
     },
     "execution_count": 253,
     "metadata": {},
     "output_type": "execute_result"
    }
   ],
   "source": [
    "df3.iloc[:,-2:]"
   ]
  },
  {
   "cell_type": "code",
   "execution_count": 260,
   "metadata": {},
   "outputs": [
    {
     "data": {
      "text/html": [
       "<div>\n",
       "<style scoped>\n",
       "    .dataframe tbody tr th:only-of-type {\n",
       "        vertical-align: middle;\n",
       "    }\n",
       "\n",
       "    .dataframe tbody tr th {\n",
       "        vertical-align: top;\n",
       "    }\n",
       "\n",
       "    .dataframe thead th {\n",
       "        text-align: right;\n",
       "    }\n",
       "</style>\n",
       "<table border=\"1\" class=\"dataframe\">\n",
       "  <thead>\n",
       "    <tr style=\"text-align: right;\">\n",
       "      <th></th>\n",
       "      <th>Duration</th>\n",
       "      <th>Discount</th>\n",
       "      <th>Courses</th>\n",
       "      <th>Fee</th>\n",
       "    </tr>\n",
       "  </thead>\n",
       "  <tbody>\n",
       "    <tr>\n",
       "      <th>0</th>\n",
       "      <td>30days</td>\n",
       "      <td>2000.0</td>\n",
       "      <td>Spark</td>\n",
       "      <td>20000</td>\n",
       "    </tr>\n",
       "    <tr>\n",
       "      <th>1</th>\n",
       "      <td>40days</td>\n",
       "      <td>NaN</td>\n",
       "      <td>PySpark</td>\n",
       "      <td>25000</td>\n",
       "    </tr>\n",
       "    <tr>\n",
       "      <th>2</th>\n",
       "      <td>35days</td>\n",
       "      <td>1200.0</td>\n",
       "      <td>Python</td>\n",
       "      <td>22000</td>\n",
       "    </tr>\n",
       "    <tr>\n",
       "      <th>3</th>\n",
       "      <td>50days</td>\n",
       "      <td>NaN</td>\n",
       "      <td>pandas</td>\n",
       "      <td>30000</td>\n",
       "    </tr>\n",
       "  </tbody>\n",
       "</table>\n",
       "</div>"
      ],
      "text/plain": [
       "  Duration  Discount  Courses    Fee\n",
       "0   30days    2000.0    Spark  20000\n",
       "1   40days       NaN  PySpark  25000\n",
       "2   35days    1200.0   Python  22000\n",
       "3   50days       NaN   pandas  30000"
      ]
     },
     "execution_count": 260,
     "metadata": {},
     "output_type": "execute_result"
    }
   ],
   "source": [
    "pd.concat([df3.iloc[:,-2:],df3.iloc[:,:-2]], axis=1)"
   ]
  },
  {
   "cell_type": "code",
   "execution_count": 242,
   "metadata": {},
   "outputs": [
    {
     "name": "stdout",
     "output_type": "stream",
     "text": [
      "           Fee Duration  Discount\n",
      "Courses                          \n",
      "Spark    20000   30days    2000.0\n",
      "PySpark  25000   40days       NaN\n",
      "Python   22000   35days    1200.0\n",
      "pandas   30000   50days       NaN\n"
     ]
    }
   ],
   "source": [
    "df3=df1.set_index('Courses').join(df2.set_index('Courses'), how='left')\n",
    "print(df3)"
   ]
  },
  {
   "cell_type": "code",
   "execution_count": null,
   "metadata": {},
   "outputs": [],
   "source": [
    "df3"
   ]
  }
 ],
 "metadata": {
  "kernelspec": {
   "display_name": "Python 3.9.12 ('base')",
   "language": "python",
   "name": "python3"
  },
  "language_info": {
   "codemirror_mode": {
    "name": "ipython",
    "version": 3
   },
   "file_extension": ".py",
   "mimetype": "text/x-python",
   "name": "python",
   "nbconvert_exporter": "python",
   "pygments_lexer": "ipython3",
   "version": "3.9.12"
  },
  "orig_nbformat": 4,
  "vscode": {
   "interpreter": {
    "hash": "a0a30072d99f792894b03dc9f0b1f0203561f4280b706a15cd2cde153fd3f68f"
   }
  }
 },
 "nbformat": 4,
 "nbformat_minor": 2
}
